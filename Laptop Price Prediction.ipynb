{
 "cells": [
  {
   "cell_type": "markdown",
   "id": "c4a5cdeb-f7c6-4d28-b848-c8cc2c443590",
   "metadata": {},
   "source": [
    "## 1. Import Libraries and Data"
   ]
  },
  {
   "cell_type": "code",
   "execution_count": null,
   "id": "e2ffd02b-e20e-4d15-b11d-3dde7c91e806",
   "metadata": {},
   "outputs": [],
   "source": [
    "import pandas as pd\n",
    "import numpy as np\n",
    "import seaborn as sns\n",
    "import matplotlib.pyplot as plt\n",
    "%matplotlib auto"
   ]
  },
  {
   "cell_type": "markdown",
   "id": "bc501f89-5dd0-4d3d-8ef7-0036bddd866a",
   "metadata": {},
   "source": [
    "### a. Read Data"
   ]
  },
  {
   "cell_type": "code",
   "execution_count": null,
   "id": "1a275aa0-ba67-4f16-bd16-0e781e89e3b7",
   "metadata": {},
   "outputs": [],
   "source": [
    "df = pd.read_csv('laptop_data.csv')\n",
    "df.head()"
   ]
  },
  {
   "cell_type": "code",
   "execution_count": null,
   "id": "7dce1545-0ff3-4e35-9f4d-3384db723adf",
   "metadata": {},
   "outputs": [],
   "source": [
    "df.columns"
   ]
  },
  {
   "cell_type": "code",
   "execution_count": null,
   "id": "79a39c5d-4974-4786-9ce9-50e4b3b187ef",
   "metadata": {},
   "outputs": [],
   "source": [
    "df.drop(columns=[\"Unnamed: 0\"], inplace=True)"
   ]
  },
  {
   "cell_type": "code",
   "execution_count": null,
   "id": "779281e5-14ed-4a69-be89-7000a06c0d0b",
   "metadata": {},
   "outputs": [],
   "source": [
    "df.head()"
   ]
  },
  {
   "cell_type": "code",
   "execution_count": null,
   "id": "091b224b-cc77-44e1-8136-c4a3eba96a5d",
   "metadata": {},
   "outputs": [],
   "source": [
    "df.isnull().sum()"
   ]
  },
  {
   "cell_type": "code",
   "execution_count": null,
   "id": "a6feb124-f6f9-4d3e-a345-aabea93d44b7",
   "metadata": {},
   "outputs": [],
   "source": [
    "df.duplicated().sum()"
   ]
  },
  {
   "cell_type": "code",
   "execution_count": null,
   "id": "8c11e131-50dc-4e8f-ab1c-3bc08fe50397",
   "metadata": {},
   "outputs": [],
   "source": [
    "df.info()"
   ]
  },
  {
   "cell_type": "code",
   "execution_count": null,
   "id": "fd30cb48-d0fd-497d-a458-cc97418b0c98",
   "metadata": {},
   "outputs": [],
   "source": [
    "for column in df.columns:\n",
    "    print(f\"Column {column} after removing duplicate values: \", list(df[column].unique()))\n",
    "    print(\"-\"*30)"
   ]
  },
  {
   "cell_type": "code",
   "execution_count": null,
   "id": "3a6a2ed4-a046-4580-b4b1-fcfdf7b79376",
   "metadata": {},
   "outputs": [],
   "source": [
    "df['Ram'].unique()"
   ]
  },
  {
   "cell_type": "code",
   "execution_count": null,
   "id": "644c1fc6-222f-499f-97ed-13792b1922e1",
   "metadata": {},
   "outputs": [],
   "source": [
    "df['Ram'] = df['Weight'].str.replace('kg','').astype('float32')"
   ]
  },
  {
   "cell_type": "code",
   "execution_count": null,
   "id": "51b51ba7-788e-491b-b118-2b8d6d690fed",
   "metadata": {},
   "outputs": [],
   "source": [
    "df.head()"
   ]
  },
  {
   "cell_type": "code",
   "execution_count": null,
   "id": "f3f07c32-7dca-4298-b6ed-5a41219455f0",
   "metadata": {},
   "outputs": [],
   "source": [
    "df['Weight'].unique()"
   ]
  },
  {
   "cell_type": "code",
   "execution_count": null,
   "id": "783f52b0-9745-4c23-8b4a-ae02722f06b5",
   "metadata": {},
   "outputs": [],
   "source": [
    "df['Ram'].unique()"
   ]
  },
  {
   "cell_type": "code",
   "execution_count": null,
   "id": "7777c6d9-9856-44f8-9bda-d39896e2cda4",
   "metadata": {},
   "outputs": [],
   "source": [
    "df['Ram'] = df['Ram'].replace('GB','').astype('int32')"
   ]
  },
  {
   "cell_type": "code",
   "execution_count": null,
   "id": "85c40c09-b184-4ea3-b625-7de7d33903f6",
   "metadata": {},
   "outputs": [],
   "source": [
    "df.head()"
   ]
  },
  {
   "cell_type": "code",
   "execution_count": null,
   "id": "e3631cd5-2619-435c-acc4-f9c56bbb0b44",
   "metadata": {},
   "outputs": [],
   "source": [
    "df['Weight'].unique()"
   ]
  },
  {
   "cell_type": "code",
   "execution_count": null,
   "id": "33c3cf2f-c63e-4e0d-ad19-94e8915747bd",
   "metadata": {},
   "outputs": [],
   "source": [
    "df['Weight'] = df['Weight'].str.replace('kg','').astype('float32')"
   ]
  },
  {
   "cell_type": "code",
   "execution_count": null,
   "id": "1e699ceb-624a-42af-b4cf-c902b0b7b3ea",
   "metadata": {},
   "outputs": [],
   "source": [
    "df.head()"
   ]
  },
  {
   "cell_type": "code",
   "execution_count": null,
   "id": "cd0c791b-ec3b-49f8-9269-a9d6b72c9327",
   "metadata": {},
   "outputs": [],
   "source": [
    "catvars = df.select_dtypes(include=['object']).columns\n",
    "numvars = df.select_dtypes(include=['int32','int64','float32','float64']).columns\n",
    "\n",
    "catvars, numvars"
   ]
  },
  {
   "cell_type": "code",
   "execution_count": null,
   "id": "dc91bde8-68b0-4353-ba1a-9af41069de97",
   "metadata": {},
   "outputs": [],
   "source": [
    "df.info()"
   ]
  },
  {
   "cell_type": "markdown",
   "id": "d5057ebc-852c-4c95-acc2-9d80d7e93701",
   "metadata": {},
   "source": [
    "## 2. Exploratory Data Analysis"
   ]
  },
  {
   "cell_type": "markdown",
   "id": "5b383a80-cd7a-43b0-afd2-93008d8b4848",
   "metadata": {},
   "source": [
    "### 2.1. Price Prediction"
   ]
  },
  {
   "cell_type": "code",
   "execution_count": null,
   "id": "4d2ef889-492a-49c1-b61f-7229e4131b83",
   "metadata": {},
   "outputs": [],
   "source": [
    "sns.displot(df['Price'], kind=\"kde\")\n",
    "plt.show()"
   ]
  },
  {
   "cell_type": "markdown",
   "id": "46d460fd-f3fe-40ba-b270-531d587cffc9",
   "metadata": {},
   "source": [
    "### 2.2. Distribution of number of laptops in different companies"
   ]
  },
  {
   "cell_type": "code",
   "execution_count": null,
   "id": "bb2f018e-31a9-43ee-b3f3-4c73daadaef3",
   "metadata": {},
   "outputs": [],
   "source": [
    "sns.countplot(data=df,x=\"Company\")\n",
    "plt.xticks(rotation=45)\n",
    "plt.show()"
   ]
  },
  {
   "cell_type": "code",
   "execution_count": null,
   "id": "a01a2dbb-dbf7-4f77-b9b1-87fa03cb9b48",
   "metadata": {},
   "outputs": [],
   "source": [
    "df[\"Company\"].value_counts()"
   ]
  },
  {
   "cell_type": "markdown",
   "id": "890407df-b8fd-48df-9819-6ee04b85e74b",
   "metadata": {},
   "source": [
    "### 2.3. Distribution of number of laptops for different types"
   ]
  },
  {
   "cell_type": "code",
   "execution_count": null,
   "id": "563c1a4d-c633-41f7-9bed-6144a3c0b132",
   "metadata": {},
   "outputs": [],
   "source": [
    "df[\"TypeName\"].value_counts()"
   ]
  },
  {
   "cell_type": "code",
   "execution_count": null,
   "id": "7a05f6c5-8bb2-4c57-b4f7-71386192c1de",
   "metadata": {},
   "outputs": [],
   "source": [
    "sns.countplot(data=df, x=\"TypeName\")\n",
    "plt.xticks(rotation=45)\n",
    "plt.show()"
   ]
  },
  {
   "cell_type": "markdown",
   "id": "e9cff5d4-f1f3-41e6-bdda-e3295a5e855f",
   "metadata": {},
   "source": [
    "### 2.4. Distribution of number of laptops for different operating systems "
   ]
  },
  {
   "cell_type": "code",
   "execution_count": null,
   "id": "52300596-2464-48b0-b858-05b9bf7bb5b9",
   "metadata": {},
   "outputs": [],
   "source": [
    "sns.countplot(data=df, x=\"OpSys\")\n",
    "plt.xticks(rotation=45)\n",
    "plt.show()"
   ]
  },
  {
   "cell_type": "code",
   "execution_count": null,
   "id": "b1b6a182-474d-4bb3-82c9-ab1a13a9f497",
   "metadata": {},
   "outputs": [],
   "source": [
    "df.head(3)"
   ]
  },
  {
   "cell_type": "markdown",
   "id": "4d62e5b6-5038-436c-bae9-9086c0c2d4dc",
   "metadata": {},
   "source": [
    "### 2.5. Company vs. Price"
   ]
  },
  {
   "cell_type": "code",
   "execution_count": null,
   "id": "c52c1d5c-ac47-48d1-917d-685c8d11b9b0",
   "metadata": {},
   "outputs": [],
   "source": [
    "sns.barplot(df,x=\"Company\",y=\"Price\")\n",
    "plt.xticks(rotation=45)\n",
    "plt.show()"
   ]
  },
  {
   "cell_type": "markdown",
   "id": "90faa95a-5128-4bd8-bd03-3f0eb430e589",
   "metadata": {},
   "source": [
    "### 2.6. Laptop Types vs. Price"
   ]
  },
  {
   "cell_type": "code",
   "execution_count": null,
   "id": "fdcbff8b-2d64-4c0c-99c3-27501707b859",
   "metadata": {},
   "outputs": [],
   "source": [
    "sns.barplot(df,x=\"TypeName\",y=\"Price\")\n",
    "plt.xticks(rotation=45)\n",
    "plt.show()"
   ]
  },
  {
   "cell_type": "markdown",
   "id": "44c3ecf0-2eb0-44a9-a5e4-ec663c8e8069",
   "metadata": {},
   "source": [
    "### 2.7. Laptop size vs. Price"
   ]
  },
  {
   "cell_type": "code",
   "execution_count": null,
   "id": "70a080c4-25d2-4058-9273-70565eb1e6c7",
   "metadata": {},
   "outputs": [],
   "source": [
    "sns.scatterplot(df,x='Inches',y='Price')"
   ]
  },
  {
   "cell_type": "markdown",
   "id": "00ef0a53-9934-42c3-a5c5-13f721c8a301",
   "metadata": {},
   "source": [
    "### 2.8. Screen resolution traits extraction"
   ]
  },
  {
   "cell_type": "markdown",
   "id": "d04c7e82-231b-4768-bf0a-a7eafe41cd1a",
   "metadata": {},
   "source": [
    "#### 2.8.1 TouchScreen"
   ]
  },
  {
   "cell_type": "code",
   "execution_count": null,
   "id": "da4f9ef5-6474-4584-9e0e-50bc96875a9c",
   "metadata": {},
   "outputs": [],
   "source": [
    "df['TouchScreen'] = df['ScreenResolution'].map(lambda x:1 if 'Touchscreen' in x else 0)\n",
    "df.sample(5)"
   ]
  },
  {
   "cell_type": "code",
   "execution_count": null,
   "id": "584cf8c4-ea11-4d58-8ac4-59d975915dac",
   "metadata": {},
   "outputs": [],
   "source": [
    "sns.countplot(df, x='TouchScreen')"
   ]
  },
  {
   "cell_type": "code",
   "execution_count": null,
   "id": "cd1992bc-9f07-4dcf-b055-281257afb7c1",
   "metadata": {},
   "outputs": [],
   "source": [
    "sns.barplot(df, x='TouchScreen', y = 'Price')"
   ]
  },
  {
   "cell_type": "markdown",
   "id": "745e6135-b0c8-4e04-bc5d-624c2f99940d",
   "metadata": {},
   "source": [
    "#### 2.8.2 IPS"
   ]
  },
  {
   "cell_type": "code",
   "execution_count": null,
   "id": "44253cd8-af1b-4bd1-b0e1-7f892b9684b8",
   "metadata": {},
   "outputs": [],
   "source": [
    "df['IPS'] = df['ScreenResolution'].map(lambda x:1 if 'IPS' in x else 0)\n",
    "df.sample(5)"
   ]
  },
  {
   "cell_type": "code",
   "execution_count": null,
   "id": "aedcfacc-e8d2-4cf0-8c45-3d1445410a6f",
   "metadata": {},
   "outputs": [],
   "source": [
    "sns.countplot(df, x='IPS')"
   ]
  },
  {
   "cell_type": "code",
   "execution_count": null,
   "id": "8744c22e-d42a-4c2a-98fe-cd42de8e2009",
   "metadata": {},
   "outputs": [],
   "source": [
    "sns.barplot(df, x='IPS', y='Price')"
   ]
  },
  {
   "cell_type": "markdown",
   "id": "2a1c4895-9848-432b-b0c2-72a83f124f25",
   "metadata": {},
   "source": [
    "#### 2.8.3 Extract X and Y resolution"
   ]
  },
  {
   "cell_type": "code",
   "execution_count": null,
   "id": "b98daa7b-26ec-4166-a384-efeb1eb6b9e2",
   "metadata": {},
   "outputs": [],
   "source": [
    "df['ScreenResolution'].unique()"
   ]
  },
  {
   "cell_type": "code",
   "execution_count": null,
   "id": "1271a06f-d059-4a5e-a330-a1a0514f1c85",
   "metadata": {},
   "outputs": [],
   "source": [
    "import re"
   ]
  },
  {
   "cell_type": "code",
   "execution_count": null,
   "id": "b3fb8cbc-2e0c-415e-874b-88fb5528dd56",
   "metadata": {},
   "outputs": [],
   "source": [
    "pattern = r\"(\\d+)x(\\d+)\""
   ]
  },
  {
   "cell_type": "code",
   "execution_count": null,
   "id": "49aa6b83-fd9e-478d-9ffe-f345a925de07",
   "metadata": {},
   "outputs": [],
   "source": [
    "def get_xy_res(row):\n",
    "    matches = re.search(pattern, row[\"ScreenResolution\"]).groups(0)\n",
    "    return int(matches[0]), int(matches[1])"
   ]
  },
  {
   "cell_type": "code",
   "execution_count": null,
   "id": "f937d5e9-7e94-4ee3-9026-deba0e5fdc69",
   "metadata": {},
   "outputs": [],
   "source": [
    "df[[\"X_res\",\"Y_res\"]] = df.apply(get_xy_res, axis=1, result_type=\"expand\")"
   ]
  },
  {
   "cell_type": "code",
   "execution_count": null,
   "id": "f806c347-42f2-48ab-aed2-c5671d49a5c0",
   "metadata": {},
   "outputs": [],
   "source": [
    "df.head(3)"
   ]
  },
  {
   "cell_type": "code",
   "execution_count": null,
   "id": "113284b8-784a-4f65-b95b-f71b56f67769",
   "metadata": {},
   "outputs": [],
   "source": [
    "df.info()"
   ]
  },
  {
   "cell_type": "code",
   "execution_count": null,
   "id": "88402d1c-85a2-43f8-9839-b124efc49d27",
   "metadata": {},
   "outputs": [],
   "source": [
    "sns.heatmap(df.corr(numeric_only=True),annot=True)"
   ]
  },
  {
   "cell_type": "code",
   "execution_count": null,
   "id": "470af046-ef86-477e-998b-94350e84cbd8",
   "metadata": {},
   "outputs": [],
   "source": [
    "df.corr(numeric_only=True)['Price'].sort_values()"
   ]
  },
  {
   "cell_type": "markdown",
   "id": "2269db10-3c43-47ab-b0a1-d540ad7a8c23",
   "metadata": {},
   "source": [
    "#### 2.8.4 Construct PPI"
   ]
  },
  {
   "cell_type": "markdown",
   "id": "39d9556c-cde2-48ae-b261-6cd5546a96ac",
   "metadata": {},
   "source": [
    "As we can see from the above heatmap, there is a very high correlation between X_res and Y_res. I will construct a new variable called PPI, given X_res, Y_res, and Inches. After that, I will delete X_res, Y_res, and Inches for the sake of retaining model training accruacy later on.\n",
    "\n",
    "The formula to calculate PPI is below:\n",
    "\n",
    "## $PPI = \\frac{\\sqrt{X^2+Y^2}}{Screen Resolution}$"
   ]
  },
  {
   "cell_type": "code",
   "execution_count": null,
   "id": "467b5adc-07f0-4f70-aa3a-63ad25a52943",
   "metadata": {},
   "outputs": [],
   "source": [
    "df['PPI']=(((df['X_res']**2+df['Y_res']**2))**0.5/df['Inches']).astype(float)\n",
    "df.head()"
   ]
  },
  {
   "cell_type": "code",
   "execution_count": null,
   "id": "9a2a2dc0-5df9-42ef-a6fa-9cf934817c69",
   "metadata": {},
   "outputs": [],
   "source": [
    "df.corr(numeric_only=True)"
   ]
  },
  {
   "cell_type": "code",
   "execution_count": null,
   "id": "600b31c0-70ec-4d54-9602-38d7d7f75012",
   "metadata": {},
   "outputs": [],
   "source": [
    "df.corr(numeric_only=True)['Price'].sort_values()"
   ]
  },
  {
   "cell_type": "code",
   "execution_count": null,
   "id": "32670aa5-0c18-4c80-bce2-1905ffa8fc5c",
   "metadata": {},
   "outputs": [],
   "source": [
    "data_enums = {}\n",
    "data_enums[\"ScreenResolution\"] = list(df.apply(lambda x : \"%dX%d\" %(x[\"X_res\"],x[\"Y_res\"]),axis=1).unique())"
   ]
  },
  {
   "cell_type": "code",
   "execution_count": null,
   "id": "55404438-09bb-4871-b726-a07989615ef5",
   "metadata": {},
   "outputs": [],
   "source": [
    "df.drop(columns=['ScreenResolution','Inches','X_res','Y_res'],inplace=True)\n",
    "df.head()"
   ]
  },
  {
   "cell_type": "markdown",
   "id": "0de80420-a230-4197-97ac-f9ba2f51d7f8",
   "metadata": {},
   "source": [
    "### 2.9 CPU Management"
   ]
  },
  {
   "cell_type": "code",
   "execution_count": null,
   "id": "061df64a-c55c-4b72-b15e-c93ff0e23122",
   "metadata": {},
   "outputs": [],
   "source": [
    "df['Cpu'].value_counts()"
   ]
  },
  {
   "cell_type": "code",
   "execution_count": null,
   "id": "62f4aa78-1510-41bd-b5b2-c998cd64e5be",
   "metadata": {},
   "outputs": [],
   "source": [
    "def get_cpu_name(cpu_text):\n",
    "    if \"Intel Core i7\" in cpu_text:\n",
    "        return \"Intel Core i7\"\n",
    "    elif \"Intel Core i5\" in cpu_text:\n",
    "        return \"Intel Core i5\"\n",
    "    elif \"Intel Core i3\" in cpu_text:\n",
    "        return \"Intel Core i3\"\n",
    "    elif \"Intel\" in cpu_text:\n",
    "        return \"Intel Other\"\n",
    "    elif \"AMD\" in cpu_text:\n",
    "        return \"AMD\"\n",
    "    else:\n",
    "        return \"Other\""
   ]
  },
  {
   "cell_type": "code",
   "execution_count": null,
   "id": "b3e12af3-fe5c-400c-926b-21caaeacf271",
   "metadata": {},
   "outputs": [],
   "source": [
    "df['CPU_name']=df['Cpu'].map(get_cpu_name)\n",
    "df.head()"
   ]
  },
  {
   "cell_type": "code",
   "execution_count": null,
   "id": "94ce85ad-0901-4bd2-8041-8c7b0002303a",
   "metadata": {},
   "outputs": [],
   "source": [
    "sns.countplot(df, x='CPU_name')\n",
    "plt.xticks(rotation=45)\n",
    "plt.show()"
   ]
  },
  {
   "cell_type": "code",
   "execution_count": null,
   "id": "eae0e475-b9e2-4d35-99f8-b4ad616c3eff",
   "metadata": {},
   "outputs": [],
   "source": [
    "sns.barplot(df, x='CPU_name', y='Price')\n",
    "plt.xticks(rotation=45)\n",
    "plt.show()"
   ]
  },
  {
   "cell_type": "code",
   "execution_count": null,
   "id": "441d1a7e-dee8-4d60-91b0-34558b58b8ff",
   "metadata": {},
   "outputs": [],
   "source": [
    "df.drop(columns=['Cpu'], inplace=True)\n",
    "df.head()"
   ]
  },
  {
   "cell_type": "code",
   "execution_count": null,
   "id": "48554973-0af7-4178-a7ed-98b6ca88eeae",
   "metadata": {},
   "outputs": [],
   "source": [
    "df['Memory'].value_counts()"
   ]
  },
  {
   "cell_type": "markdown",
   "id": "bd5b8fac-c1d3-44f0-bfd7-46637ef2564e",
   "metadata": {},
   "source": [
    "Based on the observations, disk drive has four major types: SSD, HDD, Hybrid, and Storage. We can split them into four columns"
   ]
  },
  {
   "cell_type": "code",
   "execution_count": null,
   "id": "833334e3-ac70-45a0-846c-c33c3d61eb5d",
   "metadata": {},
   "outputs": [],
   "source": [
    "def get_clean_number(value):\n",
    "    pattern = \"\\d+\"\n",
    "    result = re.findall(pattern, value)\n",
    "    return int(result[0])\n",
    "\n",
    "get_clean_number(\"512GB SSD \")"
   ]
  },
  {
   "cell_type": "code",
   "execution_count": null,
   "id": "7448eb6e-7160-4f85-9d4c-2e9b563f4cb0",
   "metadata": {},
   "outputs": [],
   "source": []
  }
 ],
 "metadata": {
  "kernelspec": {
   "display_name": "Python [conda env:base] *",
   "language": "python",
   "name": "conda-base-py"
  },
  "language_info": {
   "codemirror_mode": {
    "name": "ipython",
    "version": 3
   },
   "file_extension": ".py",
   "mimetype": "text/x-python",
   "name": "python",
   "nbconvert_exporter": "python",
   "pygments_lexer": "ipython3",
   "version": "3.12.7"
  }
 },
 "nbformat": 4,
 "nbformat_minor": 5
}
