{
 "cells": [
  {
   "cell_type": "markdown",
   "id": "c4a5cdeb-f7c6-4d28-b848-c8cc2c443590",
   "metadata": {},
   "source": [
    "## 1. Import Libraries and Data"
   ]
  },
  {
   "cell_type": "code",
   "execution_count": 2,
   "id": "e2ffd02b-e20e-4d15-b11d-3dde7c91e806",
   "metadata": {},
   "outputs": [
    {
     "name": "stdout",
     "output_type": "stream",
     "text": [
      "Using matplotlib backend: module://matplotlib_inline.backend_inline\n"
     ]
    }
   ],
   "source": [
    "import pandas as pd\n",
    "import numpy as np\n",
    "import seaborn as sns\n",
    "import matplotlib.pyplot as plt\n",
    "%matplotlib auto"
   ]
  },
  {
   "cell_type": "markdown",
   "id": "bc501f89-5dd0-4d3d-8ef7-0036bddd866a",
   "metadata": {},
   "source": [
    "### a. Read Data"
   ]
  },
  {
   "cell_type": "code",
   "execution_count": 3,
   "id": "1a275aa0-ba67-4f16-bd16-0e781e89e3b7",
   "metadata": {},
   "outputs": [
    {
     "data": {
      "text/html": [
       "<div>\n",
       "<style scoped>\n",
       "    .dataframe tbody tr th:only-of-type {\n",
       "        vertical-align: middle;\n",
       "    }\n",
       "\n",
       "    .dataframe tbody tr th {\n",
       "        vertical-align: top;\n",
       "    }\n",
       "\n",
       "    .dataframe thead th {\n",
       "        text-align: right;\n",
       "    }\n",
       "</style>\n",
       "<table border=\"1\" class=\"dataframe\">\n",
       "  <thead>\n",
       "    <tr style=\"text-align: right;\">\n",
       "      <th></th>\n",
       "      <th>Unnamed: 0</th>\n",
       "      <th>Company</th>\n",
       "      <th>TypeName</th>\n",
       "      <th>Inches</th>\n",
       "      <th>ScreenResolution</th>\n",
       "      <th>Cpu</th>\n",
       "      <th>Ram</th>\n",
       "      <th>Memory</th>\n",
       "      <th>Gpu</th>\n",
       "      <th>OpSys</th>\n",
       "      <th>Weight</th>\n",
       "      <th>Price</th>\n",
       "    </tr>\n",
       "  </thead>\n",
       "  <tbody>\n",
       "    <tr>\n",
       "      <th>0</th>\n",
       "      <td>0</td>\n",
       "      <td>Apple</td>\n",
       "      <td>Ultrabook</td>\n",
       "      <td>13.3</td>\n",
       "      <td>IPS Panel Retina Display 2560x1600</td>\n",
       "      <td>Intel Core i5 2.3GHz</td>\n",
       "      <td>8GB</td>\n",
       "      <td>128GB SSD</td>\n",
       "      <td>Intel Iris Plus Graphics 640</td>\n",
       "      <td>macOS</td>\n",
       "      <td>1.37kg</td>\n",
       "      <td>71378.6832</td>\n",
       "    </tr>\n",
       "    <tr>\n",
       "      <th>1</th>\n",
       "      <td>1</td>\n",
       "      <td>Apple</td>\n",
       "      <td>Ultrabook</td>\n",
       "      <td>13.3</td>\n",
       "      <td>1440x900</td>\n",
       "      <td>Intel Core i5 1.8GHz</td>\n",
       "      <td>8GB</td>\n",
       "      <td>128GB Flash Storage</td>\n",
       "      <td>Intel HD Graphics 6000</td>\n",
       "      <td>macOS</td>\n",
       "      <td>1.34kg</td>\n",
       "      <td>47895.5232</td>\n",
       "    </tr>\n",
       "    <tr>\n",
       "      <th>2</th>\n",
       "      <td>2</td>\n",
       "      <td>HP</td>\n",
       "      <td>Notebook</td>\n",
       "      <td>15.6</td>\n",
       "      <td>Full HD 1920x1080</td>\n",
       "      <td>Intel Core i5 7200U 2.5GHz</td>\n",
       "      <td>8GB</td>\n",
       "      <td>256GB SSD</td>\n",
       "      <td>Intel HD Graphics 620</td>\n",
       "      <td>No OS</td>\n",
       "      <td>1.86kg</td>\n",
       "      <td>30636.0000</td>\n",
       "    </tr>\n",
       "    <tr>\n",
       "      <th>3</th>\n",
       "      <td>3</td>\n",
       "      <td>Apple</td>\n",
       "      <td>Ultrabook</td>\n",
       "      <td>15.4</td>\n",
       "      <td>IPS Panel Retina Display 2880x1800</td>\n",
       "      <td>Intel Core i7 2.7GHz</td>\n",
       "      <td>16GB</td>\n",
       "      <td>512GB SSD</td>\n",
       "      <td>AMD Radeon Pro 455</td>\n",
       "      <td>macOS</td>\n",
       "      <td>1.83kg</td>\n",
       "      <td>135195.3360</td>\n",
       "    </tr>\n",
       "    <tr>\n",
       "      <th>4</th>\n",
       "      <td>4</td>\n",
       "      <td>Apple</td>\n",
       "      <td>Ultrabook</td>\n",
       "      <td>13.3</td>\n",
       "      <td>IPS Panel Retina Display 2560x1600</td>\n",
       "      <td>Intel Core i5 3.1GHz</td>\n",
       "      <td>8GB</td>\n",
       "      <td>256GB SSD</td>\n",
       "      <td>Intel Iris Plus Graphics 650</td>\n",
       "      <td>macOS</td>\n",
       "      <td>1.37kg</td>\n",
       "      <td>96095.8080</td>\n",
       "    </tr>\n",
       "  </tbody>\n",
       "</table>\n",
       "</div>"
      ],
      "text/plain": [
       "   Unnamed: 0 Company   TypeName  Inches                    ScreenResolution  \\\n",
       "0           0   Apple  Ultrabook    13.3  IPS Panel Retina Display 2560x1600   \n",
       "1           1   Apple  Ultrabook    13.3                            1440x900   \n",
       "2           2      HP   Notebook    15.6                   Full HD 1920x1080   \n",
       "3           3   Apple  Ultrabook    15.4  IPS Panel Retina Display 2880x1800   \n",
       "4           4   Apple  Ultrabook    13.3  IPS Panel Retina Display 2560x1600   \n",
       "\n",
       "                          Cpu   Ram               Memory  \\\n",
       "0        Intel Core i5 2.3GHz   8GB            128GB SSD   \n",
       "1        Intel Core i5 1.8GHz   8GB  128GB Flash Storage   \n",
       "2  Intel Core i5 7200U 2.5GHz   8GB            256GB SSD   \n",
       "3        Intel Core i7 2.7GHz  16GB            512GB SSD   \n",
       "4        Intel Core i5 3.1GHz   8GB            256GB SSD   \n",
       "\n",
       "                            Gpu  OpSys  Weight        Price  \n",
       "0  Intel Iris Plus Graphics 640  macOS  1.37kg   71378.6832  \n",
       "1        Intel HD Graphics 6000  macOS  1.34kg   47895.5232  \n",
       "2         Intel HD Graphics 620  No OS  1.86kg   30636.0000  \n",
       "3            AMD Radeon Pro 455  macOS  1.83kg  135195.3360  \n",
       "4  Intel Iris Plus Graphics 650  macOS  1.37kg   96095.8080  "
      ]
     },
     "execution_count": 3,
     "metadata": {},
     "output_type": "execute_result"
    }
   ],
   "source": [
    "df = pd.read_csv('laptop_data.csv')\n",
    "df.head()"
   ]
  },
  {
   "cell_type": "code",
   "execution_count": 4,
   "id": "7dce1545-0ff3-4e35-9f4d-3384db723adf",
   "metadata": {},
   "outputs": [
    {
     "data": {
      "text/plain": [
       "Index(['Unnamed: 0', 'Company', 'TypeName', 'Inches', 'ScreenResolution',\n",
       "       'Cpu', 'Ram', 'Memory', 'Gpu', 'OpSys', 'Weight', 'Price'],\n",
       "      dtype='object')"
      ]
     },
     "execution_count": 4,
     "metadata": {},
     "output_type": "execute_result"
    }
   ],
   "source": [
    "df.columns"
   ]
  },
  {
   "cell_type": "code",
   "execution_count": 5,
   "id": "79a39c5d-4974-4786-9ce9-50e4b3b187ef",
   "metadata": {},
   "outputs": [],
   "source": [
    "df.drop(columns=[\"Unnamed: 0\"], inplace=True)"
   ]
  },
  {
   "cell_type": "code",
   "execution_count": 6,
   "id": "779281e5-14ed-4a69-be89-7000a06c0d0b",
   "metadata": {},
   "outputs": [
    {
     "data": {
      "text/html": [
       "<div>\n",
       "<style scoped>\n",
       "    .dataframe tbody tr th:only-of-type {\n",
       "        vertical-align: middle;\n",
       "    }\n",
       "\n",
       "    .dataframe tbody tr th {\n",
       "        vertical-align: top;\n",
       "    }\n",
       "\n",
       "    .dataframe thead th {\n",
       "        text-align: right;\n",
       "    }\n",
       "</style>\n",
       "<table border=\"1\" class=\"dataframe\">\n",
       "  <thead>\n",
       "    <tr style=\"text-align: right;\">\n",
       "      <th></th>\n",
       "      <th>Company</th>\n",
       "      <th>TypeName</th>\n",
       "      <th>Inches</th>\n",
       "      <th>ScreenResolution</th>\n",
       "      <th>Cpu</th>\n",
       "      <th>Ram</th>\n",
       "      <th>Memory</th>\n",
       "      <th>Gpu</th>\n",
       "      <th>OpSys</th>\n",
       "      <th>Weight</th>\n",
       "      <th>Price</th>\n",
       "    </tr>\n",
       "  </thead>\n",
       "  <tbody>\n",
       "    <tr>\n",
       "      <th>0</th>\n",
       "      <td>Apple</td>\n",
       "      <td>Ultrabook</td>\n",
       "      <td>13.3</td>\n",
       "      <td>IPS Panel Retina Display 2560x1600</td>\n",
       "      <td>Intel Core i5 2.3GHz</td>\n",
       "      <td>8GB</td>\n",
       "      <td>128GB SSD</td>\n",
       "      <td>Intel Iris Plus Graphics 640</td>\n",
       "      <td>macOS</td>\n",
       "      <td>1.37kg</td>\n",
       "      <td>71378.6832</td>\n",
       "    </tr>\n",
       "    <tr>\n",
       "      <th>1</th>\n",
       "      <td>Apple</td>\n",
       "      <td>Ultrabook</td>\n",
       "      <td>13.3</td>\n",
       "      <td>1440x900</td>\n",
       "      <td>Intel Core i5 1.8GHz</td>\n",
       "      <td>8GB</td>\n",
       "      <td>128GB Flash Storage</td>\n",
       "      <td>Intel HD Graphics 6000</td>\n",
       "      <td>macOS</td>\n",
       "      <td>1.34kg</td>\n",
       "      <td>47895.5232</td>\n",
       "    </tr>\n",
       "    <tr>\n",
       "      <th>2</th>\n",
       "      <td>HP</td>\n",
       "      <td>Notebook</td>\n",
       "      <td>15.6</td>\n",
       "      <td>Full HD 1920x1080</td>\n",
       "      <td>Intel Core i5 7200U 2.5GHz</td>\n",
       "      <td>8GB</td>\n",
       "      <td>256GB SSD</td>\n",
       "      <td>Intel HD Graphics 620</td>\n",
       "      <td>No OS</td>\n",
       "      <td>1.86kg</td>\n",
       "      <td>30636.0000</td>\n",
       "    </tr>\n",
       "    <tr>\n",
       "      <th>3</th>\n",
       "      <td>Apple</td>\n",
       "      <td>Ultrabook</td>\n",
       "      <td>15.4</td>\n",
       "      <td>IPS Panel Retina Display 2880x1800</td>\n",
       "      <td>Intel Core i7 2.7GHz</td>\n",
       "      <td>16GB</td>\n",
       "      <td>512GB SSD</td>\n",
       "      <td>AMD Radeon Pro 455</td>\n",
       "      <td>macOS</td>\n",
       "      <td>1.83kg</td>\n",
       "      <td>135195.3360</td>\n",
       "    </tr>\n",
       "    <tr>\n",
       "      <th>4</th>\n",
       "      <td>Apple</td>\n",
       "      <td>Ultrabook</td>\n",
       "      <td>13.3</td>\n",
       "      <td>IPS Panel Retina Display 2560x1600</td>\n",
       "      <td>Intel Core i5 3.1GHz</td>\n",
       "      <td>8GB</td>\n",
       "      <td>256GB SSD</td>\n",
       "      <td>Intel Iris Plus Graphics 650</td>\n",
       "      <td>macOS</td>\n",
       "      <td>1.37kg</td>\n",
       "      <td>96095.8080</td>\n",
       "    </tr>\n",
       "  </tbody>\n",
       "</table>\n",
       "</div>"
      ],
      "text/plain": [
       "  Company   TypeName  Inches                    ScreenResolution  \\\n",
       "0   Apple  Ultrabook    13.3  IPS Panel Retina Display 2560x1600   \n",
       "1   Apple  Ultrabook    13.3                            1440x900   \n",
       "2      HP   Notebook    15.6                   Full HD 1920x1080   \n",
       "3   Apple  Ultrabook    15.4  IPS Panel Retina Display 2880x1800   \n",
       "4   Apple  Ultrabook    13.3  IPS Panel Retina Display 2560x1600   \n",
       "\n",
       "                          Cpu   Ram               Memory  \\\n",
       "0        Intel Core i5 2.3GHz   8GB            128GB SSD   \n",
       "1        Intel Core i5 1.8GHz   8GB  128GB Flash Storage   \n",
       "2  Intel Core i5 7200U 2.5GHz   8GB            256GB SSD   \n",
       "3        Intel Core i7 2.7GHz  16GB            512GB SSD   \n",
       "4        Intel Core i5 3.1GHz   8GB            256GB SSD   \n",
       "\n",
       "                            Gpu  OpSys  Weight        Price  \n",
       "0  Intel Iris Plus Graphics 640  macOS  1.37kg   71378.6832  \n",
       "1        Intel HD Graphics 6000  macOS  1.34kg   47895.5232  \n",
       "2         Intel HD Graphics 620  No OS  1.86kg   30636.0000  \n",
       "3            AMD Radeon Pro 455  macOS  1.83kg  135195.3360  \n",
       "4  Intel Iris Plus Graphics 650  macOS  1.37kg   96095.8080  "
      ]
     },
     "execution_count": 6,
     "metadata": {},
     "output_type": "execute_result"
    }
   ],
   "source": [
    "df.head()"
   ]
  },
  {
   "cell_type": "code",
   "execution_count": 7,
   "id": "091b224b-cc77-44e1-8136-c4a3eba96a5d",
   "metadata": {},
   "outputs": [
    {
     "data": {
      "text/plain": [
       "Company             0\n",
       "TypeName            0\n",
       "Inches              0\n",
       "ScreenResolution    0\n",
       "Cpu                 0\n",
       "Ram                 0\n",
       "Memory              0\n",
       "Gpu                 0\n",
       "OpSys               0\n",
       "Weight              0\n",
       "Price               0\n",
       "dtype: int64"
      ]
     },
     "execution_count": 7,
     "metadata": {},
     "output_type": "execute_result"
    }
   ],
   "source": [
    "df.isnull().sum()"
   ]
  },
  {
   "cell_type": "code",
   "execution_count": 8,
   "id": "a6feb124-f6f9-4d3e-a345-aabea93d44b7",
   "metadata": {},
   "outputs": [
    {
     "data": {
      "text/plain": [
       "29"
      ]
     },
     "execution_count": 8,
     "metadata": {},
     "output_type": "execute_result"
    }
   ],
   "source": [
    "df.duplicated().sum()"
   ]
  },
  {
   "cell_type": "code",
   "execution_count": 9,
   "id": "8c11e131-50dc-4e8f-ab1c-3bc08fe50397",
   "metadata": {},
   "outputs": [
    {
     "name": "stdout",
     "output_type": "stream",
     "text": [
      "<class 'pandas.core.frame.DataFrame'>\n",
      "RangeIndex: 1303 entries, 0 to 1302\n",
      "Data columns (total 11 columns):\n",
      " #   Column            Non-Null Count  Dtype  \n",
      "---  ------            --------------  -----  \n",
      " 0   Company           1303 non-null   object \n",
      " 1   TypeName          1303 non-null   object \n",
      " 2   Inches            1303 non-null   float64\n",
      " 3   ScreenResolution  1303 non-null   object \n",
      " 4   Cpu               1303 non-null   object \n",
      " 5   Ram               1303 non-null   object \n",
      " 6   Memory            1303 non-null   object \n",
      " 7   Gpu               1303 non-null   object \n",
      " 8   OpSys             1303 non-null   object \n",
      " 9   Weight            1303 non-null   object \n",
      " 10  Price             1303 non-null   float64\n",
      "dtypes: float64(2), object(9)\n",
      "memory usage: 112.1+ KB\n"
     ]
    }
   ],
   "source": [
    "df.info()"
   ]
  },
  {
   "cell_type": "code",
   "execution_count": 10,
   "id": "fd30cb48-d0fd-497d-a458-cc97418b0c98",
   "metadata": {},
   "outputs": [
    {
     "name": "stdout",
     "output_type": "stream",
     "text": [
      "Column Company after removing duplicate values:  ['Apple', 'HP', 'Acer', 'Asus', 'Dell', 'Lenovo', 'Chuwi', 'MSI', 'Microsoft', 'Toshiba', 'Huawei', 'Xiaomi', 'Vero', 'Razer', 'Mediacom', 'Samsung', 'Google', 'Fujitsu', 'LG']\n",
      "------------------------------\n",
      "Column TypeName after removing duplicate values:  ['Ultrabook', 'Notebook', 'Netbook', 'Gaming', '2 in 1 Convertible', 'Workstation']\n",
      "------------------------------\n",
      "Column Inches after removing duplicate values:  [13.3, 15.6, 15.4, 14.0, 12.0, 11.6, 17.3, 10.1, 13.5, 12.5, 13.0, 18.4, 13.9, 12.3, 17.0, 15.0, 14.1, 11.3]\n",
      "------------------------------\n",
      "Column ScreenResolution after removing duplicate values:  ['IPS Panel Retina Display 2560x1600', '1440x900', 'Full HD 1920x1080', 'IPS Panel Retina Display 2880x1800', '1366x768', 'IPS Panel Full HD 1920x1080', 'IPS Panel Retina Display 2304x1440', 'IPS Panel Full HD / Touchscreen 1920x1080', 'Full HD / Touchscreen 1920x1080', 'Touchscreen / Quad HD+ 3200x1800', 'IPS Panel Touchscreen 1920x1200', 'Touchscreen 2256x1504', 'Quad HD+ / Touchscreen 3200x1800', 'IPS Panel 1366x768', 'IPS Panel 4K Ultra HD / Touchscreen 3840x2160', 'IPS Panel Full HD 2160x1440', '4K Ultra HD / Touchscreen 3840x2160', 'Touchscreen 2560x1440', '1600x900', 'IPS Panel 4K Ultra HD 3840x2160', '4K Ultra HD 3840x2160', 'Touchscreen 1366x768', 'IPS Panel Full HD 1366x768', 'IPS Panel 2560x1440', 'IPS Panel Full HD 2560x1440', 'IPS Panel Retina Display 2736x1824', 'Touchscreen 2400x1600', '2560x1440', 'IPS Panel Quad HD+ 2560x1440', 'IPS Panel Quad HD+ 3200x1800', 'IPS Panel Quad HD+ / Touchscreen 3200x1800', 'IPS Panel Touchscreen 1366x768', '1920x1080', 'IPS Panel Full HD 1920x1200', 'IPS Panel Touchscreen / 4K Ultra HD 3840x2160', 'IPS Panel Touchscreen 2560x1440', 'Touchscreen / Full HD 1920x1080', 'Quad HD+ 3200x1800', 'Touchscreen / 4K Ultra HD 3840x2160', 'IPS Panel Touchscreen 2400x1600']\n",
      "------------------------------\n",
      "Column Cpu after removing duplicate values:  ['Intel Core i5 2.3GHz', 'Intel Core i5 1.8GHz', 'Intel Core i5 7200U 2.5GHz', 'Intel Core i7 2.7GHz', 'Intel Core i5 3.1GHz', 'AMD A9-Series 9420 3GHz', 'Intel Core i7 2.2GHz', 'Intel Core i7 8550U 1.8GHz', 'Intel Core i5 8250U 1.6GHz', 'Intel Core i3 6006U 2GHz', 'Intel Core i7 2.8GHz', 'Intel Core M m3 1.2GHz', 'Intel Core i7 7500U 2.7GHz', 'Intel Core i7 2.9GHz', 'Intel Core i3 7100U 2.4GHz', 'Intel Atom x5-Z8350 1.44GHz', 'Intel Core i5 7300HQ 2.5GHz', 'AMD E-Series E2-9000e 1.5GHz', 'Intel Core i5 1.6GHz', 'Intel Core i7 8650U 1.9GHz', 'Intel Atom x5-Z8300 1.44GHz', 'AMD E-Series E2-6110 1.5GHz', 'AMD A6-Series 9220 2.5GHz', 'Intel Celeron Dual Core N3350 1.1GHz', 'Intel Core i3 7130U 2.7GHz', 'Intel Core i7 7700HQ 2.8GHz', 'Intel Core i5 2.0GHz', 'AMD Ryzen 1700 3GHz', 'Intel Pentium Quad Core N4200 1.1GHz', 'Intel Atom x5-Z8550 1.44GHz', 'Intel Celeron Dual Core N3060 1.6GHz', 'Intel Core i5 1.3GHz', 'AMD FX 9830P 3GHz', 'Intel Core i7 7560U 2.4GHz', 'AMD E-Series 6110 1.5GHz', 'Intel Core i5 6200U 2.3GHz', 'Intel Core M 6Y75 1.2GHz', 'Intel Core i5 7500U 2.7GHz', 'Intel Core i3 6006U 2.2GHz', 'AMD A6-Series 9220 2.9GHz', 'Intel Core i7 6920HQ 2.9GHz', 'Intel Core i5 7Y54 1.2GHz', 'Intel Core i7 7820HK 2.9GHz', 'Intel Xeon E3-1505M V6 3GHz', 'Intel Core i7 6500U 2.5GHz', 'AMD E-Series 9000e 1.5GHz', 'AMD A10-Series A10-9620P 2.5GHz', 'AMD A6-Series A6-9220 2.5GHz', 'Intel Core i5 2.9GHz', 'Intel Core i7 6600U 2.6GHz', 'Intel Core i3 6006U 2.0GHz', 'Intel Celeron Dual Core 3205U 1.5GHz', 'Intel Core i7 7820HQ 2.9GHz', 'AMD A10-Series 9600P 2.4GHz', 'Intel Core i7 7600U 2.8GHz', 'AMD A8-Series 7410 2.2GHz', 'Intel Celeron Dual Core 3855U 1.6GHz', 'Intel Pentium Quad Core N3710 1.6GHz', 'AMD A12-Series 9720P 2.7GHz', 'Intel Core i5 7300U 2.6GHz', 'AMD A12-Series 9720P 3.6GHz', 'Intel Celeron Quad Core N3450 1.1GHz', 'Intel Celeron Dual Core N3060 1.60GHz', 'Intel Core i5 6440HQ 2.6GHz', 'Intel Core i7 6820HQ 2.7GHz', 'AMD Ryzen 1600 3.2GHz', 'Intel Core i7 7Y75 1.3GHz', 'Intel Core i5 7440HQ 2.8GHz', 'Intel Core i7 7660U 2.5GHz', 'Intel Core i7 7700HQ 2.7GHz', 'Intel Core M m3-7Y30 2.2GHz', 'Intel Core i5 7Y57 1.2GHz', 'Intel Core i7 6700HQ 2.6GHz', 'Intel Core i3 6100U 2.3GHz', 'AMD A10-Series 9620P 2.5GHz', 'AMD E-Series 7110 1.8GHz', 'Intel Celeron Dual Core N3350 2.0GHz', 'AMD A9-Series A9-9420 3GHz', 'Intel Core i7 6820HK 2.7GHz', 'Intel Core M 7Y30 1.0GHz', 'Intel Xeon E3-1535M v6 3.1GHz', 'Intel Celeron Quad Core N3160 1.6GHz', 'Intel Core i5 6300U 2.4GHz', 'Intel Core i3 6100U 2.1GHz', 'AMD E-Series E2-9000 2.2GHz', 'Intel Celeron Dual Core N3050 1.6GHz', 'Intel Core M M3-6Y30 0.9GHz', 'AMD A9-Series 9420 2.9GHz', 'Intel Core i5 6300HQ 2.3GHz', 'AMD A6-Series 7310 2GHz', 'Intel Atom Z8350 1.92GHz', 'Intel Xeon E3-1535M v5 2.9GHz', 'Intel Core i5 6260U 1.8GHz', 'Intel Pentium Dual Core N4200 1.1GHz', 'Intel Celeron Quad Core N3710 1.6GHz', 'Intel Core M 1.2GHz', 'AMD A12-Series 9700P 2.5GHz', 'Intel Core i7 7500U 2.5GHz', 'Intel Pentium Dual Core 4405U 2.1GHz', 'AMD A4-Series 7210 2.2GHz', 'Intel Core i7 6560U 2.2GHz', 'Intel Core M m7-6Y75 1.2GHz', 'AMD FX 8800P 2.1GHz', 'Intel Core M M7-6Y75 1.2GHz', 'Intel Core i5 7200U 2.50GHz', 'Intel Core i5 7200U 2.70GHz', 'Intel Atom X5-Z8350 1.44GHz', 'Intel Core i5 7200U 2.7GHz', 'Intel Core M 1.1GHz', 'Intel Pentium Dual Core 4405Y 1.5GHz', 'Intel Pentium Quad Core N3700 1.6GHz', 'Intel Core M 6Y54 1.1GHz', 'Intel Core i7 6500U 2.50GHz', 'Intel Celeron Dual Core N3350 2GHz', 'Samsung Cortex A72&A53 2.0GHz', 'AMD E-Series 9000 2.2GHz', 'Intel Core M 6Y30 0.9GHz', 'AMD A9-Series 9410 2.9GHz']\n",
      "------------------------------\n",
      "Column Ram after removing duplicate values:  ['8GB', '16GB', '4GB', '2GB', '12GB', '6GB', '32GB', '24GB', '64GB']\n",
      "------------------------------\n",
      "Column Memory after removing duplicate values:  ['128GB SSD', '128GB Flash Storage', '256GB SSD', '512GB SSD', '500GB HDD', '256GB Flash Storage', '1TB HDD', '32GB Flash Storage', '128GB SSD +  1TB HDD', '256GB SSD +  256GB SSD', '64GB Flash Storage', '256GB SSD +  1TB HDD', '256GB SSD +  2TB HDD', '32GB SSD', '2TB HDD', '64GB SSD', '1.0TB Hybrid', '512GB SSD +  1TB HDD', '1TB SSD', '256GB SSD +  500GB HDD', '128GB SSD +  2TB HDD', '512GB SSD +  512GB SSD', '16GB SSD', '16GB Flash Storage', '512GB SSD +  256GB SSD', '512GB SSD +  2TB HDD', '64GB Flash Storage +  1TB HDD', '180GB SSD', '1TB HDD +  1TB HDD', '32GB HDD', '1TB SSD +  1TB HDD', '512GB Flash Storage', '128GB HDD', '240GB SSD', '8GB SSD', '508GB Hybrid', '1.0TB HDD', '512GB SSD +  1.0TB Hybrid', '256GB SSD +  1.0TB Hybrid']\n",
      "------------------------------\n",
      "Column Gpu after removing duplicate values:  ['Intel Iris Plus Graphics 640', 'Intel HD Graphics 6000', 'Intel HD Graphics 620', 'AMD Radeon Pro 455', 'Intel Iris Plus Graphics 650', 'AMD Radeon R5', 'Intel Iris Pro Graphics', 'Nvidia GeForce MX150', 'Intel UHD Graphics 620', 'Intel HD Graphics 520', 'AMD Radeon Pro 555', 'AMD Radeon R5 M430', 'Intel HD Graphics 615', 'AMD Radeon Pro 560', 'Nvidia GeForce 940MX', 'Intel HD Graphics 400', 'Nvidia GeForce GTX 1050', 'AMD Radeon R2', 'AMD Radeon 530', 'Nvidia GeForce 930MX', 'Intel HD Graphics', 'Intel HD Graphics 500', 'Nvidia GeForce 930MX ', 'Nvidia GeForce GTX 1060', 'Nvidia GeForce 150MX', 'Intel Iris Graphics 540', 'AMD Radeon RX 580', 'Nvidia GeForce 920MX', 'AMD Radeon R4 Graphics', 'AMD Radeon 520', 'Nvidia GeForce GTX 1070', 'Nvidia GeForce GTX 1050 Ti', 'Nvidia GeForce MX130', 'AMD R4 Graphics', 'Nvidia GeForce GTX 940MX', 'AMD Radeon RX 560', 'Nvidia GeForce 920M', 'AMD Radeon R7 M445', 'AMD Radeon RX 550', 'Nvidia GeForce GTX 1050M', 'Intel HD Graphics 515', 'AMD Radeon R5 M420', 'Intel HD Graphics 505', 'Nvidia GTX 980 SLI', 'AMD R17M-M1-70', 'Nvidia GeForce GTX 1080', 'Nvidia Quadro M1200', 'Nvidia GeForce 920MX ', 'Nvidia GeForce GTX 950M', 'AMD FirePro W4190M ', 'Nvidia GeForce GTX 980M', 'Intel Iris Graphics 550', 'Nvidia GeForce 930M', 'Intel HD Graphics 630', 'AMD Radeon R5 430', 'Nvidia GeForce GTX 940M', 'Intel HD Graphics 510', 'Intel HD Graphics 405', 'AMD Radeon RX 540', 'Nvidia GeForce GT 940MX', 'AMD FirePro W5130M', 'Nvidia Quadro M2200M', 'AMD Radeon R4', 'Nvidia Quadro M620', 'AMD Radeon R7 M460', 'Intel HD Graphics 530', 'Nvidia GeForce GTX 965M', 'Nvidia GeForce GTX1080', 'Nvidia GeForce GTX1050 Ti', 'Nvidia GeForce GTX 960M', 'AMD Radeon R2 Graphics', 'Nvidia Quadro M620M', 'Nvidia GeForce GTX 970M', 'Nvidia GeForce GTX 960<U+039C>', 'Intel Graphics 620', 'Nvidia GeForce GTX 960', 'AMD Radeon R5 520', 'AMD Radeon R7 M440', 'AMD Radeon R7', 'Nvidia Quadro M520M', 'Nvidia Quadro M2200', 'Nvidia Quadro M2000M', 'Intel HD Graphics 540', 'Nvidia Quadro M1000M', 'AMD Radeon 540', 'Nvidia GeForce GTX 1070M', 'Nvidia GeForce GTX1060', 'Intel HD Graphics 5300', 'AMD Radeon R5 M420X', 'AMD Radeon R7 Graphics', 'Nvidia GeForce 920', 'Nvidia GeForce 940M', 'Nvidia GeForce GTX 930MX', 'AMD Radeon R7 M465', 'AMD Radeon R3', 'Nvidia GeForce GTX 1050Ti', 'AMD Radeon R7 M365X', 'AMD Radeon R9 M385', 'Intel HD Graphics 620 ', 'Nvidia Quadro 3000M', 'Nvidia GeForce GTX 980 ', 'AMD Radeon R5 M330', 'AMD FirePro W4190M', 'AMD FirePro W6150M', 'AMD Radeon R5 M315', 'Nvidia Quadro M500M', 'AMD Radeon R7 M360', 'Nvidia Quadro M3000M', 'Nvidia GeForce 960M', 'ARM Mali T860 MP4']\n",
      "------------------------------\n",
      "Column OpSys after removing duplicate values:  ['macOS', 'No OS', 'Windows 10', 'Mac OS X', 'Linux', 'Android', 'Windows 10 S', 'Chrome OS', 'Windows 7']\n",
      "------------------------------\n",
      "Column Weight after removing duplicate values:  ['1.37kg', '1.34kg', '1.86kg', '1.83kg', '2.1kg', '2.04kg', '1.3kg', '1.6kg', '2.2kg', '0.92kg', '1.22kg', '0.98kg', '2.5kg', '1.62kg', '1.91kg', '2.3kg', '1.35kg', '1.88kg', '1.89kg', '1.65kg', '2.71kg', '1.2kg', '1.44kg', '2.8kg', '2kg', '2.65kg', '2.77kg', '3.2kg', '0.69kg', '1.49kg', '2.4kg', '2.13kg', '2.43kg', '1.7kg', '1.4kg', '1.8kg', '1.9kg', '3kg', '1.252kg', '2.7kg', '2.02kg', '1.63kg', '1.96kg', '1.21kg', '2.45kg', '1.25kg', '1.5kg', '2.62kg', '1.38kg', '1.58kg', '1.85kg', '1.23kg', '1.26kg', '2.16kg', '2.36kg', '2.05kg', '1.32kg', '1.75kg', '0.97kg', '2.9kg', '2.56kg', '1.48kg', '1.74kg', '1.1kg', '1.56kg', '2.03kg', '1.05kg', '4.4kg', '1.90kg', '1.29kg', '2.0kg', '1.95kg', '2.06kg', '1.12kg', '1.42kg', '3.49kg', '3.35kg', '2.23kg', '4.42kg', '2.69kg', '2.37kg', '4.7kg', '3.6kg', '2.08kg', '4.3kg', '1.68kg', '1.41kg', '4.14kg', '2.18kg', '2.24kg', '2.67kg', '2.14kg', '1.36kg', '2.25kg', '2.15kg', '2.19kg', '2.54kg', '3.42kg', '1.28kg', '2.33kg', '1.45kg', '2.79kg', '1.84kg', '2.6kg', '2.26kg', '3.25kg', '1.59kg', '1.13kg', '1.78kg', '1.10kg', '1.15kg', '1.27kg', '1.43kg', '2.31kg', '1.16kg', '1.64kg', '2.17kg', '1.47kg', '3.78kg', '1.79kg', '0.91kg', '1.99kg', '4.33kg', '1.93kg', '1.87kg', '2.63kg', '3.4kg', '3.14kg', '1.94kg', '1.24kg', '4.6kg', '4.5kg', '2.73kg', '1.39kg', '2.29kg', '2.59kg', '2.94kg', '1.14kg', '3.8kg', '3.31kg', '1.09kg', '3.21kg', '1.19kg', '1.98kg', '1.17kg', '4.36kg', '1.71kg', '2.32kg', '4.2kg', '1.55kg', '0.81kg', '1.18kg', '2.72kg', '1.31kg', '0.920kg', '3.74kg', '1.76kg', '1.54kg', '2.83kg', '2.07kg', '2.38kg', '3.58kg', '1.08kg', '2.20kg', '2.75kg', '1.70kg', '2.99kg', '1.11kg', '2.09kg', '4kg', '3.0kg', '0.99kg', '3.52kg', '2.591kg', '2.21kg', '3.3kg', '2.191kg', '2.34kg', '4.0kg']\n",
      "------------------------------\n",
      "Column Price after removing duplicate values:  [71378.6832, 47895.5232, 30636.0, 135195.33599999998, 96095.808, 21312.0, 114017.6016, 61735.536, 79653.59999999999, 41025.6, 20986.992, 18381.0672, 130001.6016, 26581.391999999996, 67260.672, 80908.344, 39693.6, 152274.24, 26586.72, 52161.119999999995, 10224.432, 53226.72, 13746.24, 43636.32, 35111.52, 22305.1392, 58554.72, 42624.0, 69157.44, 47738.88, 13053.0672, 10602.72, 23389.92, 99580.32, 53173.439999999995, 13266.72, 19553.76, 26037.403199999997, 46833.119999999995, 20725.92, 79866.72, 27864.9072, 36336.96, 75604.31999999999, 19660.32, 69210.72, 34045.92, 24828.48, 16996.32, 44808.48, 21231.5472, 58767.84, 20459.52, 40908.384, 31232.203200000004, 130482.72, 22111.2, 31914.72, 50136.48, 36763.2, 105654.24, 23373.4032, 12201.12, 29250.72, 50562.72, 58021.92, 50882.4, 46353.6, 58341.6, 27652.32, 45554.4, 28238.4, 52054.56, 58403.4048, 80452.8, 45820.8, 21258.72, 21045.6, 71874.72, 37242.72, 31914.1872, 77202.72, 87858.72, 36709.92, 63776.16, 63669.6, 55890.72, 45128.16, 31962.672, 25840.8, 30742.56, 66546.72, 38308.32, 18594.72, 34472.159999999996, 59620.32, 71395.2, 22105.872, 63563.04, 78854.4, 67239.36, 73473.12, 74538.72, 38468.16, 86793.12, 74538.1872, 57755.52, 60223.98239999999, 30049.92, 59567.04, 25521.12, 119427.12, 33513.119999999995, 67718.88, 24029.28, 13799.52, 43263.36, 14811.3072, 74378.87999999999, 49443.84, 34045.3872, 23922.72, 47099.52, 30476.16, 31861.44, 52640.64, 13445.7408, 49976.64, 34898.4, 59461.5456, 46300.32, 32074.56, 107305.92, 18328.32, 108105.12, 23816.16, 66560.5728, 47898.72, 26533.44, 100699.2, 57648.96, 32980.32, 70063.2, 21471.84, 42890.4, 38787.84, 57489.119999999995, 18541.44, 95850.72, 19367.812799999996, 56502.907199999994, 45501.119999999995, 40173.119999999995, 16463.52, 26053.92, 49177.439999999995, 24455.52, 149130.72, 43316.64, 98514.72, 42251.04, 63882.72, 82530.72, 127712.16, 41505.119999999995, 52693.92, 57808.8, 150462.72, 13852.8, 53274.67199999999, 37189.439999999995, 44701.92, 48697.92, 324954.72, 51095.52, 55677.6, 98301.6, 26267.039999999997, 39533.76, 93186.72, 162770.4, 74485.44, 103842.72, 31808.16, 74964.95999999999, 49650.5664, 31381.92, 54931.68, 61218.72, 68145.12, 36089.208, 72620.64, 42304.32, 130873.7952, 44328.96, 45768.0528, 40972.32, 47472.48, 67612.31999999999, 21258.1872, 17582.399999999998, 45767.52, 20779.2, 207259.2, 45074.88, 61005.6, 47365.92, 52480.8, 29783.52, 159786.72, 35964.0, 108691.2, 24988.32, 37402.56, 23757.552, 56423.52, 133146.72, 90522.72, 60845.759999999995, 23656.32, 35004.96, 30103.199999999997, 42570.72, 24881.76, 54239.04, 46886.4, 104370.192, 39164.5296, 37992.3696, 45234.72, 22803.84, 44169.119999999995, 30849.12, 50669.28, 58448.16, 62817.119999999995, 35112.0528, 63243.36, 97449.12, 39373.92, 153705.3408, 78215.04, 27119.52, 113060.16, 34578.72, 67399.2, 19180.2672, 105228.0, 55571.04, 111834.72, 14652.0, 44968.32, 24503.472, 52214.4, 68837.76, 58288.32, 48058.56, 15557.76, 55938.672, 71128.8, 140605.91999999998, 50243.04, 71075.52, 67559.04, 60952.32, 14651.4672, 60885.72, 14646.672, 38148.48, 84129.12, 60153.119999999995, 14865.12, 85672.1088, 19980.0, 35324.64, 108020.9376, 69477.12, 75071.52, 92615.0256, 74751.84, 51729.55199999999, 17155.627200000003, 29696.6736, 76030.56, 50349.6, 43103.52, 93240.0, 22697.28, 117162.72, 46300.85279999999, 26053.3872, 29463.84, 15238.08, 63456.48, 21498.48, 88178.4, 93181.392, 121584.96, 72940.31999999999, 113752.8, 133679.52, 55357.92, 84768.48, 36975.7872, 41498.1936, 65510.9568, 144495.36, 139860.0, 16303.68, 81465.12, 60978.96, 119826.72, 99793.44, 93080.16, 89510.4, 21791.52, 16221.096, 102564.0, 103523.04, 42038.4528, 31909.391999999996, 79920.0, 28768.536, 64755.44640000001, 101178.72, 61751.52, 60867.072, 106506.72, 15930.72, 14332.32, 53812.8, 130269.6, 90309.6, 18488.16, 126912.96, 39906.72, 76137.12, 23539.104, 106187.04, 54757.9872, 137941.91999999998, 81731.52, 71661.59999999999, 109010.88, 34093.871999999996, 28984.32, 23176.8, 111355.2, 16197.12, 40439.52, 98994.24, 61485.119999999995, 67932.0, 98133.768, 39427.2, 128298.24, 72673.92, 89084.16, 31254.048, 38681.28, 13261.392000000002, 124568.64, 95797.44, 103896.0, 53918.82719999999, 71928.0, 47893.39199999999, 48538.08, 18115.2, 32979.7872, 85194.72, 14119.2, 65214.72, 32660.64, 70489.44, 44542.08, 64961.10719999999, 74589.336, 13053.6, 27783.9216, 158135.04, 80133.12, 68184.0144, 31168.8, 73366.56, 160520.3856, 42486.004799999995, 39207.1536, 42517.439999999995, 37589.04, 41824.8, 24634.008, 21152.16, 92121.12, 59513.227199999994, 143802.72, 28992.312, 68198.4, 11934.72, 13586.4, 30310.992, 32921.712, 33566.4, 104695.2, 52747.2, 99153.5472, 44222.4, 36496.8, 99367.2, 141884.63999999998, 145401.12, 39907.252799999995, 53733.94559999999, 81912.13919999999, 15717.6, 125154.72, 79813.44, 89137.44, 32447.52, 94305.6, 32127.84, 28185.12, 107892.0, 78534.72, 88977.59999999999, 93932.64, 64948.32, 35616.6144, 17529.12, 24775.2, 122490.72, 261018.72, 46833.6528, 23650.992, 19127.52, 62231.04, 30316.32, 74005.92, 120831.5808, 20193.12, 59886.72, 78055.2, 41345.28, 49656.96, 12733.92, 24935.04, 34046.4528, 96969.6, 101232.0, 78801.12, 48304.7136, 93635.3376, 127818.72, 59087.52, 27753.552, 130536.0, 62284.32, 23976.0, 14598.72, 48964.32, 138474.72, 64628.64, 84395.52, 37775.52, 77250.672, 63499.10399999999, 19441.872, 56689.92, 60472.8, 63722.88, 167691.8736, 65481.119999999995, 22324.32, 28504.8, 28717.92, 79215.1056, 67026.23999999999, 21951.36, 99519.048, 43580.376, 55091.52, 68944.31999999999, 26373.6, 53168.111999999994, 109277.28, 149916.6, 32639.8608, 29073.29759999999, 16943.04, 101657.7072, 137995.19999999998, 51841.439999999995, 35644.32, 100006.56, 22857.12, 33110.856, 42357.6, 98834.4, 34898.932799999995, 15877.44, 76012.44480000001, 45664.6896, 63936.0, 89864.1792, 44574.048, 194972.832, 71847.0144, 26101.872, 31409.625599999996, 103096.8, 34632.0, 51148.8, 128884.32, 111593.8944, 21887.424, 64308.96, 35431.2, 81784.8, 175770.72, 60031.1088, 233845.92, 25308.0, 58394.88, 45282.672, 83170.08, 152859.7872, 55837.439999999995, 99047.52, 83063.52, 25059.715199999995, 62938.065599999994, 54345.6, 66280.31999999999, 126273.6, 33886.08, 154458.72, 31003.632, 191211.264, 125208.0, 93985.92, 100752.48, 71341.92, 10810.512, 104961.6, 62071.2, 124142.4, 43156.8, 110017.872, 39640.32, 41558.4, 89457.12, 128671.2, 51202.079999999994, 42081.076799999995, 20512.8, 133467.4656, 40226.4, 58075.2, 99900.0, 72354.23999999999, 18914.4, 292986.72, 63190.079999999994, 87912.0, 147832.28639999998, 17316.0, 31435.199999999997, 163723.57919999998, 48484.8, 38041.3872, 99633.6, 32767.199999999997, 54665.28, 121318.56, 46087.2, 101391.84, 41931.36, 136343.52, 45323.1648, 68464.8, 54185.759999999995, 119347.2, 94731.84, 56210.4, 73952.64, 39160.8, 90043.2, 49816.8, 48618.0, 90576.0, 36486.14399999999, 24279.695999999996, 72988.272, 15824.16, 141138.72, 78588.0, 49497.119999999995, 47952.0, 32713.92, 107257.968, 109170.72, 104588.1072, 79014.23999999999, 42037.92, 64202.399999999994, 165168.0, 54291.78719999999, 46939.68, 59668.804800000005, 36496.2672, 69103.62719999999, 97236.0, 38889.072, 37725.4368, 15392.592, 58874.4, 88924.31999999999, 29762.208, 87325.92, 146946.24, 78438.816, 94572.0, 77788.8, 79333.3872, 168045.12, 41292.0, 93772.8, 53759.52, 95371.2, 45101.52, 24808.233599999996, 43956.0, 167778.72, 37029.6, 104587.57439999998, 149184.0, 62870.399999999994, 109218.672, 53386.56, 48751.2, 42943.68, 63349.92, 101658.24, 14418.6336, 61272.0, 20246.4, 111301.92, 67132.8, 29144.16, 58607.46719999999, 55904.5728, 36443.52, 81997.92, 84715.2, 100550.5488, 64468.8, 41025.0672, 79387.2, 118761.12, 42410.3472, 63159.7104, 55754.3232, 56476.8, 86526.72, 57542.4, 65480.587199999994, 91908.0, 56633.976, 53839.9728, 11231.424, 75924.0, 55922.687999999995, 53280.0, 112065.9552, 78268.31999999999, 82351.6992, 122010.66719999998, 15339.311999999998, 139593.6, 120093.12, 37570.392, 96916.32, 57009.6, 52746.6672, 102777.12, 77682.23999999999, 211788.0, 42517.9728, 70809.12, 69264.0, 25679.8944, 91294.7472, 28771.2, 50083.2, 172627.19999999998, 34433.2656, 39960.0, 54931.14719999999, 20619.36, 20965.1472, 18434.3472, 43601.688, 34035.263999999996, 26640.0, 60480.792, 62176.1616, 11135.52, 75289.968, 80516.20319999999, 46193.759999999995, 21205.44, 40980.312, 104908.32, 146519.46719999998, 54825.119999999995, 118601.28, 69929.4672, 10442.88, 80612.64, 27899.0064, 100965.6, 109244.2464, 14811.84, 40066.56, 32820.479999999996, 210424.032, 41771.52, 115709.2416, 130003.2, 60888.384, 122381.49599999998, 53807.471999999994, 124621.92, 18061.92, 119916.2304, 25515.2592, 79536.38399999999, 42010.7472, 108744.48, 94252.32, 25414.0272, 74059.2, 36177.119999999995, 69530.4, 114731.5536, 87219.36, 44275.68, 47686.1328, 17742.239999999998, 48431.52, 36816.48, 61964.64, 70702.56, 19607.04, 114552.0, 14492.16, 109165.392, 142790.4, 103842.1872, 9270.72, 67772.16, 78647.1408, 91288.3536, 78694.56, 27804.7008, 186426.72, 24988.852799999997, 85141.44, 25467.84, 117119.5632, 39267.36, 31838.5296, 19276.704, 85248.0, 46620.0, 123876.0, 30529.44, 96596.64, 17262.72, 57116.16, 23655.7872, 26107.2, 47685.6, 44382.7728, 38841.119999999995, 15397.92, 29303.4672, 42943.1472, 38378.6496, 33992.64, 40705.92]\n",
      "------------------------------\n"
     ]
    }
   ],
   "source": [
    "for column in df.columns:\n",
    "    print(f\"Column {column} after removing duplicate values: \", list(df[column].unique()))\n",
    "    print(\"-\"*30)"
   ]
  },
  {
   "cell_type": "code",
   "execution_count": 11,
   "id": "3a6a2ed4-a046-4580-b4b1-fcfdf7b79376",
   "metadata": {},
   "outputs": [
    {
     "data": {
      "text/plain": [
       "array(['8GB', '16GB', '4GB', '2GB', '12GB', '6GB', '32GB', '24GB', '64GB'],\n",
       "      dtype=object)"
      ]
     },
     "execution_count": 11,
     "metadata": {},
     "output_type": "execute_result"
    }
   ],
   "source": [
    "df['Ram'].unique()"
   ]
  },
  {
   "cell_type": "code",
   "execution_count": 12,
   "id": "644c1fc6-222f-499f-97ed-13792b1922e1",
   "metadata": {},
   "outputs": [],
   "source": [
    "df['Ram'] = df['Weight'].str.replace('kg','').astype('float32')"
   ]
  },
  {
   "cell_type": "code",
   "execution_count": 13,
   "id": "51b51ba7-788e-491b-b118-2b8d6d690fed",
   "metadata": {},
   "outputs": [
    {
     "data": {
      "text/html": [
       "<div>\n",
       "<style scoped>\n",
       "    .dataframe tbody tr th:only-of-type {\n",
       "        vertical-align: middle;\n",
       "    }\n",
       "\n",
       "    .dataframe tbody tr th {\n",
       "        vertical-align: top;\n",
       "    }\n",
       "\n",
       "    .dataframe thead th {\n",
       "        text-align: right;\n",
       "    }\n",
       "</style>\n",
       "<table border=\"1\" class=\"dataframe\">\n",
       "  <thead>\n",
       "    <tr style=\"text-align: right;\">\n",
       "      <th></th>\n",
       "      <th>Company</th>\n",
       "      <th>TypeName</th>\n",
       "      <th>Inches</th>\n",
       "      <th>ScreenResolution</th>\n",
       "      <th>Cpu</th>\n",
       "      <th>Ram</th>\n",
       "      <th>Memory</th>\n",
       "      <th>Gpu</th>\n",
       "      <th>OpSys</th>\n",
       "      <th>Weight</th>\n",
       "      <th>Price</th>\n",
       "    </tr>\n",
       "  </thead>\n",
       "  <tbody>\n",
       "    <tr>\n",
       "      <th>0</th>\n",
       "      <td>Apple</td>\n",
       "      <td>Ultrabook</td>\n",
       "      <td>13.3</td>\n",
       "      <td>IPS Panel Retina Display 2560x1600</td>\n",
       "      <td>Intel Core i5 2.3GHz</td>\n",
       "      <td>1.37</td>\n",
       "      <td>128GB SSD</td>\n",
       "      <td>Intel Iris Plus Graphics 640</td>\n",
       "      <td>macOS</td>\n",
       "      <td>1.37kg</td>\n",
       "      <td>71378.6832</td>\n",
       "    </tr>\n",
       "    <tr>\n",
       "      <th>1</th>\n",
       "      <td>Apple</td>\n",
       "      <td>Ultrabook</td>\n",
       "      <td>13.3</td>\n",
       "      <td>1440x900</td>\n",
       "      <td>Intel Core i5 1.8GHz</td>\n",
       "      <td>1.34</td>\n",
       "      <td>128GB Flash Storage</td>\n",
       "      <td>Intel HD Graphics 6000</td>\n",
       "      <td>macOS</td>\n",
       "      <td>1.34kg</td>\n",
       "      <td>47895.5232</td>\n",
       "    </tr>\n",
       "    <tr>\n",
       "      <th>2</th>\n",
       "      <td>HP</td>\n",
       "      <td>Notebook</td>\n",
       "      <td>15.6</td>\n",
       "      <td>Full HD 1920x1080</td>\n",
       "      <td>Intel Core i5 7200U 2.5GHz</td>\n",
       "      <td>1.86</td>\n",
       "      <td>256GB SSD</td>\n",
       "      <td>Intel HD Graphics 620</td>\n",
       "      <td>No OS</td>\n",
       "      <td>1.86kg</td>\n",
       "      <td>30636.0000</td>\n",
       "    </tr>\n",
       "    <tr>\n",
       "      <th>3</th>\n",
       "      <td>Apple</td>\n",
       "      <td>Ultrabook</td>\n",
       "      <td>15.4</td>\n",
       "      <td>IPS Panel Retina Display 2880x1800</td>\n",
       "      <td>Intel Core i7 2.7GHz</td>\n",
       "      <td>1.83</td>\n",
       "      <td>512GB SSD</td>\n",
       "      <td>AMD Radeon Pro 455</td>\n",
       "      <td>macOS</td>\n",
       "      <td>1.83kg</td>\n",
       "      <td>135195.3360</td>\n",
       "    </tr>\n",
       "    <tr>\n",
       "      <th>4</th>\n",
       "      <td>Apple</td>\n",
       "      <td>Ultrabook</td>\n",
       "      <td>13.3</td>\n",
       "      <td>IPS Panel Retina Display 2560x1600</td>\n",
       "      <td>Intel Core i5 3.1GHz</td>\n",
       "      <td>1.37</td>\n",
       "      <td>256GB SSD</td>\n",
       "      <td>Intel Iris Plus Graphics 650</td>\n",
       "      <td>macOS</td>\n",
       "      <td>1.37kg</td>\n",
       "      <td>96095.8080</td>\n",
       "    </tr>\n",
       "  </tbody>\n",
       "</table>\n",
       "</div>"
      ],
      "text/plain": [
       "  Company   TypeName  Inches                    ScreenResolution  \\\n",
       "0   Apple  Ultrabook    13.3  IPS Panel Retina Display 2560x1600   \n",
       "1   Apple  Ultrabook    13.3                            1440x900   \n",
       "2      HP   Notebook    15.6                   Full HD 1920x1080   \n",
       "3   Apple  Ultrabook    15.4  IPS Panel Retina Display 2880x1800   \n",
       "4   Apple  Ultrabook    13.3  IPS Panel Retina Display 2560x1600   \n",
       "\n",
       "                          Cpu   Ram               Memory  \\\n",
       "0        Intel Core i5 2.3GHz  1.37            128GB SSD   \n",
       "1        Intel Core i5 1.8GHz  1.34  128GB Flash Storage   \n",
       "2  Intel Core i5 7200U 2.5GHz  1.86            256GB SSD   \n",
       "3        Intel Core i7 2.7GHz  1.83            512GB SSD   \n",
       "4        Intel Core i5 3.1GHz  1.37            256GB SSD   \n",
       "\n",
       "                            Gpu  OpSys  Weight        Price  \n",
       "0  Intel Iris Plus Graphics 640  macOS  1.37kg   71378.6832  \n",
       "1        Intel HD Graphics 6000  macOS  1.34kg   47895.5232  \n",
       "2         Intel HD Graphics 620  No OS  1.86kg   30636.0000  \n",
       "3            AMD Radeon Pro 455  macOS  1.83kg  135195.3360  \n",
       "4  Intel Iris Plus Graphics 650  macOS  1.37kg   96095.8080  "
      ]
     },
     "execution_count": 13,
     "metadata": {},
     "output_type": "execute_result"
    }
   ],
   "source": [
    "df.head()"
   ]
  },
  {
   "cell_type": "code",
   "execution_count": 14,
   "id": "f3f07c32-7dca-4298-b6ed-5a41219455f0",
   "metadata": {},
   "outputs": [
    {
     "data": {
      "text/plain": [
       "array(['1.37kg', '1.34kg', '1.86kg', '1.83kg', '2.1kg', '2.04kg', '1.3kg',\n",
       "       '1.6kg', '2.2kg', '0.92kg', '1.22kg', '0.98kg', '2.5kg', '1.62kg',\n",
       "       '1.91kg', '2.3kg', '1.35kg', '1.88kg', '1.89kg', '1.65kg',\n",
       "       '2.71kg', '1.2kg', '1.44kg', '2.8kg', '2kg', '2.65kg', '2.77kg',\n",
       "       '3.2kg', '0.69kg', '1.49kg', '2.4kg', '2.13kg', '2.43kg', '1.7kg',\n",
       "       '1.4kg', '1.8kg', '1.9kg', '3kg', '1.252kg', '2.7kg', '2.02kg',\n",
       "       '1.63kg', '1.96kg', '1.21kg', '2.45kg', '1.25kg', '1.5kg',\n",
       "       '2.62kg', '1.38kg', '1.58kg', '1.85kg', '1.23kg', '1.26kg',\n",
       "       '2.16kg', '2.36kg', '2.05kg', '1.32kg', '1.75kg', '0.97kg',\n",
       "       '2.9kg', '2.56kg', '1.48kg', '1.74kg', '1.1kg', '1.56kg', '2.03kg',\n",
       "       '1.05kg', '4.4kg', '1.90kg', '1.29kg', '2.0kg', '1.95kg', '2.06kg',\n",
       "       '1.12kg', '1.42kg', '3.49kg', '3.35kg', '2.23kg', '4.42kg',\n",
       "       '2.69kg', '2.37kg', '4.7kg', '3.6kg', '2.08kg', '4.3kg', '1.68kg',\n",
       "       '1.41kg', '4.14kg', '2.18kg', '2.24kg', '2.67kg', '2.14kg',\n",
       "       '1.36kg', '2.25kg', '2.15kg', '2.19kg', '2.54kg', '3.42kg',\n",
       "       '1.28kg', '2.33kg', '1.45kg', '2.79kg', '1.84kg', '2.6kg',\n",
       "       '2.26kg', '3.25kg', '1.59kg', '1.13kg', '1.78kg', '1.10kg',\n",
       "       '1.15kg', '1.27kg', '1.43kg', '2.31kg', '1.16kg', '1.64kg',\n",
       "       '2.17kg', '1.47kg', '3.78kg', '1.79kg', '0.91kg', '1.99kg',\n",
       "       '4.33kg', '1.93kg', '1.87kg', '2.63kg', '3.4kg', '3.14kg',\n",
       "       '1.94kg', '1.24kg', '4.6kg', '4.5kg', '2.73kg', '1.39kg', '2.29kg',\n",
       "       '2.59kg', '2.94kg', '1.14kg', '3.8kg', '3.31kg', '1.09kg',\n",
       "       '3.21kg', '1.19kg', '1.98kg', '1.17kg', '4.36kg', '1.71kg',\n",
       "       '2.32kg', '4.2kg', '1.55kg', '0.81kg', '1.18kg', '2.72kg',\n",
       "       '1.31kg', '0.920kg', '3.74kg', '1.76kg', '1.54kg', '2.83kg',\n",
       "       '2.07kg', '2.38kg', '3.58kg', '1.08kg', '2.20kg', '2.75kg',\n",
       "       '1.70kg', '2.99kg', '1.11kg', '2.09kg', '4kg', '3.0kg', '0.99kg',\n",
       "       '3.52kg', '2.591kg', '2.21kg', '3.3kg', '2.191kg', '2.34kg',\n",
       "       '4.0kg'], dtype=object)"
      ]
     },
     "execution_count": 14,
     "metadata": {},
     "output_type": "execute_result"
    }
   ],
   "source": [
    "df['Weight'].unique()"
   ]
  },
  {
   "cell_type": "code",
   "execution_count": 15,
   "id": "783f52b0-9745-4c23-8b4a-ae02722f06b5",
   "metadata": {},
   "outputs": [
    {
     "data": {
      "text/plain": [
       "array([1.37 , 1.34 , 1.86 , 1.83 , 2.1  , 2.04 , 1.3  , 1.6  , 2.2  ,\n",
       "       0.92 , 1.22 , 0.98 , 2.5  , 1.62 , 1.91 , 2.3  , 1.35 , 1.88 ,\n",
       "       1.89 , 1.65 , 2.71 , 1.2  , 1.44 , 2.8  , 2.   , 2.65 , 2.77 ,\n",
       "       3.2  , 0.69 , 1.49 , 2.4  , 2.13 , 2.43 , 1.7  , 1.4  , 1.8  ,\n",
       "       1.9  , 3.   , 1.252, 2.7  , 2.02 , 1.63 , 1.96 , 1.21 , 2.45 ,\n",
       "       1.25 , 1.5  , 2.62 , 1.38 , 1.58 , 1.85 , 1.23 , 1.26 , 2.16 ,\n",
       "       2.36 , 2.05 , 1.32 , 1.75 , 0.97 , 2.9  , 2.56 , 1.48 , 1.74 ,\n",
       "       1.1  , 1.56 , 2.03 , 1.05 , 4.4  , 1.29 , 1.95 , 2.06 , 1.12 ,\n",
       "       1.42 , 3.49 , 3.35 , 2.23 , 4.42 , 2.69 , 2.37 , 4.7  , 3.6  ,\n",
       "       2.08 , 4.3  , 1.68 , 1.41 , 4.14 , 2.18 , 2.24 , 2.67 , 2.14 ,\n",
       "       1.36 , 2.25 , 2.15 , 2.19 , 2.54 , 3.42 , 1.28 , 2.33 , 1.45 ,\n",
       "       2.79 , 1.84 , 2.6  , 2.26 , 3.25 , 1.59 , 1.13 , 1.78 , 1.15 ,\n",
       "       1.27 , 1.43 , 2.31 , 1.16 , 1.64 , 2.17 , 1.47 , 3.78 , 1.79 ,\n",
       "       0.91 , 1.99 , 4.33 , 1.93 , 1.87 , 2.63 , 3.4  , 3.14 , 1.94 ,\n",
       "       1.24 , 4.6  , 4.5  , 2.73 , 1.39 , 2.29 , 2.59 , 2.94 , 1.14 ,\n",
       "       3.8  , 3.31 , 1.09 , 3.21 , 1.19 , 1.98 , 1.17 , 4.36 , 1.71 ,\n",
       "       2.32 , 4.2  , 1.55 , 0.81 , 1.18 , 2.72 , 1.31 , 3.74 , 1.76 ,\n",
       "       1.54 , 2.83 , 2.07 , 2.38 , 3.58 , 1.08 , 2.75 , 2.99 , 1.11 ,\n",
       "       2.09 , 4.   , 0.99 , 3.52 , 2.591, 2.21 , 3.3  , 2.191, 2.34 ],\n",
       "      dtype=float32)"
      ]
     },
     "execution_count": 15,
     "metadata": {},
     "output_type": "execute_result"
    }
   ],
   "source": [
    "df['Ram'].unique()"
   ]
  },
  {
   "cell_type": "code",
   "execution_count": 16,
   "id": "7777c6d9-9856-44f8-9bda-d39896e2cda4",
   "metadata": {},
   "outputs": [],
   "source": [
    "df['Ram'] = df['Ram'].replace('GB','').astype('int32')"
   ]
  },
  {
   "cell_type": "code",
   "execution_count": 17,
   "id": "85c40c09-b184-4ea3-b625-7de7d33903f6",
   "metadata": {},
   "outputs": [
    {
     "data": {
      "text/html": [
       "<div>\n",
       "<style scoped>\n",
       "    .dataframe tbody tr th:only-of-type {\n",
       "        vertical-align: middle;\n",
       "    }\n",
       "\n",
       "    .dataframe tbody tr th {\n",
       "        vertical-align: top;\n",
       "    }\n",
       "\n",
       "    .dataframe thead th {\n",
       "        text-align: right;\n",
       "    }\n",
       "</style>\n",
       "<table border=\"1\" class=\"dataframe\">\n",
       "  <thead>\n",
       "    <tr style=\"text-align: right;\">\n",
       "      <th></th>\n",
       "      <th>Company</th>\n",
       "      <th>TypeName</th>\n",
       "      <th>Inches</th>\n",
       "      <th>ScreenResolution</th>\n",
       "      <th>Cpu</th>\n",
       "      <th>Ram</th>\n",
       "      <th>Memory</th>\n",
       "      <th>Gpu</th>\n",
       "      <th>OpSys</th>\n",
       "      <th>Weight</th>\n",
       "      <th>Price</th>\n",
       "    </tr>\n",
       "  </thead>\n",
       "  <tbody>\n",
       "    <tr>\n",
       "      <th>0</th>\n",
       "      <td>Apple</td>\n",
       "      <td>Ultrabook</td>\n",
       "      <td>13.3</td>\n",
       "      <td>IPS Panel Retina Display 2560x1600</td>\n",
       "      <td>Intel Core i5 2.3GHz</td>\n",
       "      <td>1</td>\n",
       "      <td>128GB SSD</td>\n",
       "      <td>Intel Iris Plus Graphics 640</td>\n",
       "      <td>macOS</td>\n",
       "      <td>1.37kg</td>\n",
       "      <td>71378.6832</td>\n",
       "    </tr>\n",
       "    <tr>\n",
       "      <th>1</th>\n",
       "      <td>Apple</td>\n",
       "      <td>Ultrabook</td>\n",
       "      <td>13.3</td>\n",
       "      <td>1440x900</td>\n",
       "      <td>Intel Core i5 1.8GHz</td>\n",
       "      <td>1</td>\n",
       "      <td>128GB Flash Storage</td>\n",
       "      <td>Intel HD Graphics 6000</td>\n",
       "      <td>macOS</td>\n",
       "      <td>1.34kg</td>\n",
       "      <td>47895.5232</td>\n",
       "    </tr>\n",
       "    <tr>\n",
       "      <th>2</th>\n",
       "      <td>HP</td>\n",
       "      <td>Notebook</td>\n",
       "      <td>15.6</td>\n",
       "      <td>Full HD 1920x1080</td>\n",
       "      <td>Intel Core i5 7200U 2.5GHz</td>\n",
       "      <td>1</td>\n",
       "      <td>256GB SSD</td>\n",
       "      <td>Intel HD Graphics 620</td>\n",
       "      <td>No OS</td>\n",
       "      <td>1.86kg</td>\n",
       "      <td>30636.0000</td>\n",
       "    </tr>\n",
       "    <tr>\n",
       "      <th>3</th>\n",
       "      <td>Apple</td>\n",
       "      <td>Ultrabook</td>\n",
       "      <td>15.4</td>\n",
       "      <td>IPS Panel Retina Display 2880x1800</td>\n",
       "      <td>Intel Core i7 2.7GHz</td>\n",
       "      <td>1</td>\n",
       "      <td>512GB SSD</td>\n",
       "      <td>AMD Radeon Pro 455</td>\n",
       "      <td>macOS</td>\n",
       "      <td>1.83kg</td>\n",
       "      <td>135195.3360</td>\n",
       "    </tr>\n",
       "    <tr>\n",
       "      <th>4</th>\n",
       "      <td>Apple</td>\n",
       "      <td>Ultrabook</td>\n",
       "      <td>13.3</td>\n",
       "      <td>IPS Panel Retina Display 2560x1600</td>\n",
       "      <td>Intel Core i5 3.1GHz</td>\n",
       "      <td>1</td>\n",
       "      <td>256GB SSD</td>\n",
       "      <td>Intel Iris Plus Graphics 650</td>\n",
       "      <td>macOS</td>\n",
       "      <td>1.37kg</td>\n",
       "      <td>96095.8080</td>\n",
       "    </tr>\n",
       "  </tbody>\n",
       "</table>\n",
       "</div>"
      ],
      "text/plain": [
       "  Company   TypeName  Inches                    ScreenResolution  \\\n",
       "0   Apple  Ultrabook    13.3  IPS Panel Retina Display 2560x1600   \n",
       "1   Apple  Ultrabook    13.3                            1440x900   \n",
       "2      HP   Notebook    15.6                   Full HD 1920x1080   \n",
       "3   Apple  Ultrabook    15.4  IPS Panel Retina Display 2880x1800   \n",
       "4   Apple  Ultrabook    13.3  IPS Panel Retina Display 2560x1600   \n",
       "\n",
       "                          Cpu  Ram               Memory  \\\n",
       "0        Intel Core i5 2.3GHz    1            128GB SSD   \n",
       "1        Intel Core i5 1.8GHz    1  128GB Flash Storage   \n",
       "2  Intel Core i5 7200U 2.5GHz    1            256GB SSD   \n",
       "3        Intel Core i7 2.7GHz    1            512GB SSD   \n",
       "4        Intel Core i5 3.1GHz    1            256GB SSD   \n",
       "\n",
       "                            Gpu  OpSys  Weight        Price  \n",
       "0  Intel Iris Plus Graphics 640  macOS  1.37kg   71378.6832  \n",
       "1        Intel HD Graphics 6000  macOS  1.34kg   47895.5232  \n",
       "2         Intel HD Graphics 620  No OS  1.86kg   30636.0000  \n",
       "3            AMD Radeon Pro 455  macOS  1.83kg  135195.3360  \n",
       "4  Intel Iris Plus Graphics 650  macOS  1.37kg   96095.8080  "
      ]
     },
     "execution_count": 17,
     "metadata": {},
     "output_type": "execute_result"
    }
   ],
   "source": [
    "df.head()"
   ]
  },
  {
   "cell_type": "code",
   "execution_count": 18,
   "id": "e3631cd5-2619-435c-acc4-f9c56bbb0b44",
   "metadata": {},
   "outputs": [
    {
     "data": {
      "text/plain": [
       "array(['1.37kg', '1.34kg', '1.86kg', '1.83kg', '2.1kg', '2.04kg', '1.3kg',\n",
       "       '1.6kg', '2.2kg', '0.92kg', '1.22kg', '0.98kg', '2.5kg', '1.62kg',\n",
       "       '1.91kg', '2.3kg', '1.35kg', '1.88kg', '1.89kg', '1.65kg',\n",
       "       '2.71kg', '1.2kg', '1.44kg', '2.8kg', '2kg', '2.65kg', '2.77kg',\n",
       "       '3.2kg', '0.69kg', '1.49kg', '2.4kg', '2.13kg', '2.43kg', '1.7kg',\n",
       "       '1.4kg', '1.8kg', '1.9kg', '3kg', '1.252kg', '2.7kg', '2.02kg',\n",
       "       '1.63kg', '1.96kg', '1.21kg', '2.45kg', '1.25kg', '1.5kg',\n",
       "       '2.62kg', '1.38kg', '1.58kg', '1.85kg', '1.23kg', '1.26kg',\n",
       "       '2.16kg', '2.36kg', '2.05kg', '1.32kg', '1.75kg', '0.97kg',\n",
       "       '2.9kg', '2.56kg', '1.48kg', '1.74kg', '1.1kg', '1.56kg', '2.03kg',\n",
       "       '1.05kg', '4.4kg', '1.90kg', '1.29kg', '2.0kg', '1.95kg', '2.06kg',\n",
       "       '1.12kg', '1.42kg', '3.49kg', '3.35kg', '2.23kg', '4.42kg',\n",
       "       '2.69kg', '2.37kg', '4.7kg', '3.6kg', '2.08kg', '4.3kg', '1.68kg',\n",
       "       '1.41kg', '4.14kg', '2.18kg', '2.24kg', '2.67kg', '2.14kg',\n",
       "       '1.36kg', '2.25kg', '2.15kg', '2.19kg', '2.54kg', '3.42kg',\n",
       "       '1.28kg', '2.33kg', '1.45kg', '2.79kg', '1.84kg', '2.6kg',\n",
       "       '2.26kg', '3.25kg', '1.59kg', '1.13kg', '1.78kg', '1.10kg',\n",
       "       '1.15kg', '1.27kg', '1.43kg', '2.31kg', '1.16kg', '1.64kg',\n",
       "       '2.17kg', '1.47kg', '3.78kg', '1.79kg', '0.91kg', '1.99kg',\n",
       "       '4.33kg', '1.93kg', '1.87kg', '2.63kg', '3.4kg', '3.14kg',\n",
       "       '1.94kg', '1.24kg', '4.6kg', '4.5kg', '2.73kg', '1.39kg', '2.29kg',\n",
       "       '2.59kg', '2.94kg', '1.14kg', '3.8kg', '3.31kg', '1.09kg',\n",
       "       '3.21kg', '1.19kg', '1.98kg', '1.17kg', '4.36kg', '1.71kg',\n",
       "       '2.32kg', '4.2kg', '1.55kg', '0.81kg', '1.18kg', '2.72kg',\n",
       "       '1.31kg', '0.920kg', '3.74kg', '1.76kg', '1.54kg', '2.83kg',\n",
       "       '2.07kg', '2.38kg', '3.58kg', '1.08kg', '2.20kg', '2.75kg',\n",
       "       '1.70kg', '2.99kg', '1.11kg', '2.09kg', '4kg', '3.0kg', '0.99kg',\n",
       "       '3.52kg', '2.591kg', '2.21kg', '3.3kg', '2.191kg', '2.34kg',\n",
       "       '4.0kg'], dtype=object)"
      ]
     },
     "execution_count": 18,
     "metadata": {},
     "output_type": "execute_result"
    }
   ],
   "source": [
    "df['Weight'].unique()"
   ]
  },
  {
   "cell_type": "code",
   "execution_count": 19,
   "id": "33c3cf2f-c63e-4e0d-ad19-94e8915747bd",
   "metadata": {},
   "outputs": [],
   "source": [
    "df['Weight'] = df['Weight'].str.replace('kg','').astype('float32')"
   ]
  },
  {
   "cell_type": "code",
   "execution_count": 20,
   "id": "1e699ceb-624a-42af-b4cf-c902b0b7b3ea",
   "metadata": {},
   "outputs": [
    {
     "data": {
      "text/html": [
       "<div>\n",
       "<style scoped>\n",
       "    .dataframe tbody tr th:only-of-type {\n",
       "        vertical-align: middle;\n",
       "    }\n",
       "\n",
       "    .dataframe tbody tr th {\n",
       "        vertical-align: top;\n",
       "    }\n",
       "\n",
       "    .dataframe thead th {\n",
       "        text-align: right;\n",
       "    }\n",
       "</style>\n",
       "<table border=\"1\" class=\"dataframe\">\n",
       "  <thead>\n",
       "    <tr style=\"text-align: right;\">\n",
       "      <th></th>\n",
       "      <th>Company</th>\n",
       "      <th>TypeName</th>\n",
       "      <th>Inches</th>\n",
       "      <th>ScreenResolution</th>\n",
       "      <th>Cpu</th>\n",
       "      <th>Ram</th>\n",
       "      <th>Memory</th>\n",
       "      <th>Gpu</th>\n",
       "      <th>OpSys</th>\n",
       "      <th>Weight</th>\n",
       "      <th>Price</th>\n",
       "    </tr>\n",
       "  </thead>\n",
       "  <tbody>\n",
       "    <tr>\n",
       "      <th>0</th>\n",
       "      <td>Apple</td>\n",
       "      <td>Ultrabook</td>\n",
       "      <td>13.3</td>\n",
       "      <td>IPS Panel Retina Display 2560x1600</td>\n",
       "      <td>Intel Core i5 2.3GHz</td>\n",
       "      <td>1</td>\n",
       "      <td>128GB SSD</td>\n",
       "      <td>Intel Iris Plus Graphics 640</td>\n",
       "      <td>macOS</td>\n",
       "      <td>1.37</td>\n",
       "      <td>71378.6832</td>\n",
       "    </tr>\n",
       "    <tr>\n",
       "      <th>1</th>\n",
       "      <td>Apple</td>\n",
       "      <td>Ultrabook</td>\n",
       "      <td>13.3</td>\n",
       "      <td>1440x900</td>\n",
       "      <td>Intel Core i5 1.8GHz</td>\n",
       "      <td>1</td>\n",
       "      <td>128GB Flash Storage</td>\n",
       "      <td>Intel HD Graphics 6000</td>\n",
       "      <td>macOS</td>\n",
       "      <td>1.34</td>\n",
       "      <td>47895.5232</td>\n",
       "    </tr>\n",
       "    <tr>\n",
       "      <th>2</th>\n",
       "      <td>HP</td>\n",
       "      <td>Notebook</td>\n",
       "      <td>15.6</td>\n",
       "      <td>Full HD 1920x1080</td>\n",
       "      <td>Intel Core i5 7200U 2.5GHz</td>\n",
       "      <td>1</td>\n",
       "      <td>256GB SSD</td>\n",
       "      <td>Intel HD Graphics 620</td>\n",
       "      <td>No OS</td>\n",
       "      <td>1.86</td>\n",
       "      <td>30636.0000</td>\n",
       "    </tr>\n",
       "    <tr>\n",
       "      <th>3</th>\n",
       "      <td>Apple</td>\n",
       "      <td>Ultrabook</td>\n",
       "      <td>15.4</td>\n",
       "      <td>IPS Panel Retina Display 2880x1800</td>\n",
       "      <td>Intel Core i7 2.7GHz</td>\n",
       "      <td>1</td>\n",
       "      <td>512GB SSD</td>\n",
       "      <td>AMD Radeon Pro 455</td>\n",
       "      <td>macOS</td>\n",
       "      <td>1.83</td>\n",
       "      <td>135195.3360</td>\n",
       "    </tr>\n",
       "    <tr>\n",
       "      <th>4</th>\n",
       "      <td>Apple</td>\n",
       "      <td>Ultrabook</td>\n",
       "      <td>13.3</td>\n",
       "      <td>IPS Panel Retina Display 2560x1600</td>\n",
       "      <td>Intel Core i5 3.1GHz</td>\n",
       "      <td>1</td>\n",
       "      <td>256GB SSD</td>\n",
       "      <td>Intel Iris Plus Graphics 650</td>\n",
       "      <td>macOS</td>\n",
       "      <td>1.37</td>\n",
       "      <td>96095.8080</td>\n",
       "    </tr>\n",
       "  </tbody>\n",
       "</table>\n",
       "</div>"
      ],
      "text/plain": [
       "  Company   TypeName  Inches                    ScreenResolution  \\\n",
       "0   Apple  Ultrabook    13.3  IPS Panel Retina Display 2560x1600   \n",
       "1   Apple  Ultrabook    13.3                            1440x900   \n",
       "2      HP   Notebook    15.6                   Full HD 1920x1080   \n",
       "3   Apple  Ultrabook    15.4  IPS Panel Retina Display 2880x1800   \n",
       "4   Apple  Ultrabook    13.3  IPS Panel Retina Display 2560x1600   \n",
       "\n",
       "                          Cpu  Ram               Memory  \\\n",
       "0        Intel Core i5 2.3GHz    1            128GB SSD   \n",
       "1        Intel Core i5 1.8GHz    1  128GB Flash Storage   \n",
       "2  Intel Core i5 7200U 2.5GHz    1            256GB SSD   \n",
       "3        Intel Core i7 2.7GHz    1            512GB SSD   \n",
       "4        Intel Core i5 3.1GHz    1            256GB SSD   \n",
       "\n",
       "                            Gpu  OpSys  Weight        Price  \n",
       "0  Intel Iris Plus Graphics 640  macOS    1.37   71378.6832  \n",
       "1        Intel HD Graphics 6000  macOS    1.34   47895.5232  \n",
       "2         Intel HD Graphics 620  No OS    1.86   30636.0000  \n",
       "3            AMD Radeon Pro 455  macOS    1.83  135195.3360  \n",
       "4  Intel Iris Plus Graphics 650  macOS    1.37   96095.8080  "
      ]
     },
     "execution_count": 20,
     "metadata": {},
     "output_type": "execute_result"
    }
   ],
   "source": [
    "df.head()"
   ]
  },
  {
   "cell_type": "code",
   "execution_count": 21,
   "id": "cd0c791b-ec3b-49f8-9269-a9d6b72c9327",
   "metadata": {},
   "outputs": [
    {
     "data": {
      "text/plain": [
       "(Index(['Company', 'TypeName', 'ScreenResolution', 'Cpu', 'Memory', 'Gpu',\n",
       "        'OpSys'],\n",
       "       dtype='object'),\n",
       " Index(['Inches', 'Ram', 'Weight', 'Price'], dtype='object'))"
      ]
     },
     "execution_count": 21,
     "metadata": {},
     "output_type": "execute_result"
    }
   ],
   "source": [
    "catvars = df.select_dtypes(include=['object']).columns\n",
    "numvars = df.select_dtypes(include=['int32','int64','float32','float64']).columns\n",
    "\n",
    "catvars, numvars"
   ]
  },
  {
   "cell_type": "code",
   "execution_count": 22,
   "id": "dc91bde8-68b0-4353-ba1a-9af41069de97",
   "metadata": {},
   "outputs": [
    {
     "name": "stdout",
     "output_type": "stream",
     "text": [
      "<class 'pandas.core.frame.DataFrame'>\n",
      "RangeIndex: 1303 entries, 0 to 1302\n",
      "Data columns (total 11 columns):\n",
      " #   Column            Non-Null Count  Dtype  \n",
      "---  ------            --------------  -----  \n",
      " 0   Company           1303 non-null   object \n",
      " 1   TypeName          1303 non-null   object \n",
      " 2   Inches            1303 non-null   float64\n",
      " 3   ScreenResolution  1303 non-null   object \n",
      " 4   Cpu               1303 non-null   object \n",
      " 5   Ram               1303 non-null   int32  \n",
      " 6   Memory            1303 non-null   object \n",
      " 7   Gpu               1303 non-null   object \n",
      " 8   OpSys             1303 non-null   object \n",
      " 9   Weight            1303 non-null   float32\n",
      " 10  Price             1303 non-null   float64\n",
      "dtypes: float32(1), float64(2), int32(1), object(7)\n",
      "memory usage: 101.9+ KB\n"
     ]
    }
   ],
   "source": [
    "df.info()"
   ]
  },
  {
   "cell_type": "markdown",
   "id": "d5057ebc-852c-4c95-acc2-9d80d7e93701",
   "metadata": {},
   "source": [
    "## 2. Exploratory Data Analysis"
   ]
  },
  {
   "cell_type": "markdown",
   "id": "5b383a80-cd7a-43b0-afd2-93008d8b4848",
   "metadata": {},
   "source": [
    "### 2.1. Price Prediction"
   ]
  },
  {
   "cell_type": "code",
   "execution_count": 23,
   "id": "4d2ef889-492a-49c1-b61f-7229e4131b83",
   "metadata": {},
   "outputs": [
    {
     "data": {
      "image/png": "[encoded data removed]",
      "text/plain": [
       "<Figure size 500x500 with 1 Axes>"
      ]
     },
     "metadata": {},
     "output_type": "display_data"
    }
   ],
   "source": [
    "sns.displot(df['Price'], kind=\"kde\")\n",
    "plt.show()"
   ]
  },
  {
   "cell_type": "markdown",
   "id": "46d460fd-f3fe-40ba-b270-531d587cffc9",
   "metadata": {},
   "source": [
    "### 2.2. Distribution of number of laptops in different companies"
   ]
  },
  {
   "cell_type": "code",
   "execution_count": 24,
   "id": "bb2f018e-31a9-43ee-b3f3-4c73daadaef3",
   "metadata": {},
   "outputs": [
    {
     "data": {
      "image/png": "[encoded data removed]",
      "text/plain": [
       "<Figure size 640x480 with 1 Axes>"
      ]
     },
     "metadata": {},
     "output_type": "display_data"
    }
   ],
   "source": [
    "sns.countplot(data=df,x=\"Company\")\n",
    "plt.xticks(rotation=45)\n",
    "plt.show()"
   ]
  },
  {
   "cell_type": "code",
   "execution_count": 25,
   "id": "a01a2dbb-dbf7-4f77-b9b1-87fa03cb9b48",
   "metadata": {},
   "outputs": [
    {
     "data": {
      "text/plain": [
       "Company\n",
       "Dell         297\n",
       "Lenovo       297\n",
       "HP           274\n",
       "Asus         158\n",
       "Acer         103\n",
       "MSI           54\n",
       "Toshiba       48\n",
       "Apple         21\n",
       "Samsung        9\n",
       "Razer          7\n",
       "Mediacom       7\n",
       "Microsoft      6\n",
       "Xiaomi         4\n",
       "Vero           4\n",
       "Chuwi          3\n",
       "Google         3\n",
       "Fujitsu        3\n",
       "LG             3\n",
       "Huawei         2\n",
       "Name: count, dtype: int64"
      ]
     },
     "execution_count": 25,
     "metadata": {},
     "output_type": "execute_result"
    }
   ],
   "source": [
    "df[\"Company\"].value_counts()"
   ]
  },
  {
   "cell_type": "markdown",
   "id": "890407df-b8fd-48df-9819-6ee04b85e74b",
   "metadata": {},
   "source": [
    "### 2.3. Distribution of number of laptops for different types"
   ]
  },
  {
   "cell_type": "code",
   "execution_count": 26,
   "id": "563c1a4d-c633-41f7-9bed-6144a3c0b132",
   "metadata": {},
   "outputs": [
    {
     "data": {
      "text/plain": [
       "TypeName\n",
       "Notebook              727\n",
       "Gaming                205\n",
       "Ultrabook             196\n",
       "2 in 1 Convertible    121\n",
       "Workstation            29\n",
       "Netbook                25\n",
       "Name: count, dtype: int64"
      ]
     },
     "execution_count": 26,
     "metadata": {},
     "output_type": "execute_result"
    }
   ],
   "source": [
    "df[\"TypeName\"].value_counts()"
   ]
  },
  {
   "cell_type": "code",
   "execution_count": 27,
   "id": "7a05f6c5-8bb2-4c57-b4f7-71386192c1de",
   "metadata": {},
   "outputs": [
    {
     "data": {
      "image/png": "[encoded data removed]",
      "text/plain": [
       "<Figure size 640x480 with 1 Axes>"
      ]
     },
     "metadata": {},
     "output_type": "display_data"
    }
   ],
   "source": [
    "sns.countplot(data=df, x=\"TypeName\")\n",
    "plt.xticks(rotation=45)\n",
    "plt.show()"
   ]
  },
  {
   "cell_type": "markdown",
   "id": "e9cff5d4-f1f3-41e6-bdda-e3295a5e855f",
   "metadata": {},
   "source": [
    "### 2.4. Distribution of number of laptops for different operating systems "
   ]
  },
  {
   "cell_type": "code",
   "execution_count": 28,
   "id": "52300596-2464-48b0-b858-05b9bf7bb5b9",
   "metadata": {},
   "outputs": [
    {
     "data": {
      "image/png": "[encoded data removed]",
      "text/plain": [
       "<Figure size 640x480 with 1 Axes>"
      ]
     },
     "metadata": {},
     "output_type": "display_data"
    }
   ],
   "source": [
    "sns.countplot(data=df, x=\"OpSys\")\n",
    "plt.xticks(rotation=45)\n",
    "plt.show()"
   ]
  },
  {
   "cell_type": "code",
   "execution_count": 29,
   "id": "b1b6a182-474d-4bb3-82c9-ab1a13a9f497",
   "metadata": {},
   "outputs": [
    {
     "data": {
      "text/html": [
       "<div>\n",
       "<style scoped>\n",
       "    .dataframe tbody tr th:only-of-type {\n",
       "        vertical-align: middle;\n",
       "    }\n",
       "\n",
       "    .dataframe tbody tr th {\n",
       "        vertical-align: top;\n",
       "    }\n",
       "\n",
       "    .dataframe thead th {\n",
       "        text-align: right;\n",
       "    }\n",
       "</style>\n",
       "<table border=\"1\" class=\"dataframe\">\n",
       "  <thead>\n",
       "    <tr style=\"text-align: right;\">\n",
       "      <th></th>\n",
       "      <th>Company</th>\n",
       "      <th>TypeName</th>\n",
       "      <th>Inches</th>\n",
       "      <th>ScreenResolution</th>\n",
       "      <th>Cpu</th>\n",
       "      <th>Ram</th>\n",
       "      <th>Memory</th>\n",
       "      <th>Gpu</th>\n",
       "      <th>OpSys</th>\n",
       "      <th>Weight</th>\n",
       "      <th>Price</th>\n",
       "    </tr>\n",
       "  </thead>\n",
       "  <tbody>\n",
       "    <tr>\n",
       "      <th>0</th>\n",
       "      <td>Apple</td>\n",
       "      <td>Ultrabook</td>\n",
       "      <td>13.3</td>\n",
       "      <td>IPS Panel Retina Display 2560x1600</td>\n",
       "      <td>Intel Core i5 2.3GHz</td>\n",
       "      <td>1</td>\n",
       "      <td>128GB SSD</td>\n",
       "      <td>Intel Iris Plus Graphics 640</td>\n",
       "      <td>macOS</td>\n",
       "      <td>1.37</td>\n",
       "      <td>71378.6832</td>\n",
       "    </tr>\n",
       "    <tr>\n",
       "      <th>1</th>\n",
       "      <td>Apple</td>\n",
       "      <td>Ultrabook</td>\n",
       "      <td>13.3</td>\n",
       "      <td>1440x900</td>\n",
       "      <td>Intel Core i5 1.8GHz</td>\n",
       "      <td>1</td>\n",
       "      <td>128GB Flash Storage</td>\n",
       "      <td>Intel HD Graphics 6000</td>\n",
       "      <td>macOS</td>\n",
       "      <td>1.34</td>\n",
       "      <td>47895.5232</td>\n",
       "    </tr>\n",
       "    <tr>\n",
       "      <th>2</th>\n",
       "      <td>HP</td>\n",
       "      <td>Notebook</td>\n",
       "      <td>15.6</td>\n",
       "      <td>Full HD 1920x1080</td>\n",
       "      <td>Intel Core i5 7200U 2.5GHz</td>\n",
       "      <td>1</td>\n",
       "      <td>256GB SSD</td>\n",
       "      <td>Intel HD Graphics 620</td>\n",
       "      <td>No OS</td>\n",
       "      <td>1.86</td>\n",
       "      <td>30636.0000</td>\n",
       "    </tr>\n",
       "  </tbody>\n",
       "</table>\n",
       "</div>"
      ],
      "text/plain": [
       "  Company   TypeName  Inches                    ScreenResolution  \\\n",
       "0   Apple  Ultrabook    13.3  IPS Panel Retina Display 2560x1600   \n",
       "1   Apple  Ultrabook    13.3                            1440x900   \n",
       "2      HP   Notebook    15.6                   Full HD 1920x1080   \n",
       "\n",
       "                          Cpu  Ram               Memory  \\\n",
       "0        Intel Core i5 2.3GHz    1            128GB SSD   \n",
       "1        Intel Core i5 1.8GHz    1  128GB Flash Storage   \n",
       "2  Intel Core i5 7200U 2.5GHz    1            256GB SSD   \n",
       "\n",
       "                            Gpu  OpSys  Weight       Price  \n",
       "0  Intel Iris Plus Graphics 640  macOS    1.37  71378.6832  \n",
       "1        Intel HD Graphics 6000  macOS    1.34  47895.5232  \n",
       "2         Intel HD Graphics 620  No OS    1.86  30636.0000  "
      ]
     },
     "execution_count": 29,
     "metadata": {},
     "output_type": "execute_result"
    }
   ],
   "source": [
    "df.head(3)"
   ]
  },
  {
   "cell_type": "markdown",
   "id": "4d62e5b6-5038-436c-bae9-9086c0c2d4dc",
   "metadata": {},
   "source": [
    "### 2.5. Company vs. Price"
   ]
  },
  {
   "cell_type": "code",
   "execution_count": 30,
   "id": "c52c1d5c-ac47-48d1-917d-685c8d11b9b0",
   "metadata": {},
   "outputs": [
    {
     "data": {
      "image/png": "[encoded data removed]",
      "text/plain": [
       "<Figure size 640x480 with 1 Axes>"
      ]
     },
     "metadata": {},
     "output_type": "display_data"
    }
   ],
   "source": [
    "sns.barplot(df,x=\"Company\",y=\"Price\")\n",
    "plt.xticks(rotation=45)\n",
    "plt.show()"
   ]
  },
  {
   "cell_type": "markdown",
   "id": "90faa95a-5128-4bd8-bd03-3f0eb430e589",
   "metadata": {},
   "source": [
    "### 2.6. Laptop Types vs. Price"
   ]
  },
  {
   "cell_type": "code",
   "execution_count": 32,
   "id": "fdcbff8b-2d64-4c0c-99c3-27501707b859",
   "metadata": {},
   "outputs": [
    {
     "data": {
      "image/png": "[encoded data removed]",
      "text/plain": [
       "<Figure size 640x480 with 1 Axes>"
      ]
     },
     "metadata": {},
     "output_type": "display_data"
    }
   ],
   "source": [
    "sns.barplot(df,x=\"TypeName\",y=\"Price\")\n",
    "plt.xticks(rotation=45)\n",
    "plt.show()"
   ]
  },
  {
   "cell_type": "markdown",
   "id": "44c3ecf0-2eb0-44a9-a5e4-ec663c8e8069",
   "metadata": {},
   "source": [
    "### 2.7. Laptop size vs. Price"
   ]
  },
  {
   "cell_type": "code",
   "execution_count": 33,
   "id": "70a080c4-25d2-4058-9273-70565eb1e6c7",
   "metadata": {},
   "outputs": [
    {
     "data": {
      "text/plain": [
       "<Axes: xlabel='Inches', ylabel='Price'>"
      ]
     },
     "execution_count": 33,
     "metadata": {},
     "output_type": "execute_result"
    },
    {
     "data": {
      "image/png": "[encoded data removed]",
      "text/plain": [
       "<Figure size 640x480 with 1 Axes>"
      ]
     },
     "metadata": {},
     "output_type": "display_data"
    }
   ],
   "source": [
    "sns.scatterplot(df,x='Inches',y='Price')"
   ]
  },
  {
   "cell_type": "markdown",
   "id": "00ef0a53-9934-42c3-a5c5-13f721c8a301",
   "metadata": {},
   "source": [
    "### 2.8. Screen resolution traits extraction"
   ]
  },
  {
   "cell_type": "markdown",
   "id": "d04c7e82-231b-4768-bf0a-a7eafe41cd1a",
   "metadata": {},
   "source": [
    "#### 2.8.1 TouchScreen"
   ]
  },
  {
   "cell_type": "code",
   "execution_count": 34,
   "id": "da4f9ef5-6474-4584-9e0e-50bc96875a9c",
   "metadata": {},
   "outputs": [
    {
     "data": {
      "text/html": [
       "<div>\n",
       "<style scoped>\n",
       "    .dataframe tbody tr th:only-of-type {\n",
       "        vertical-align: middle;\n",
       "    }\n",
       "\n",
       "    .dataframe tbody tr th {\n",
       "        vertical-align: top;\n",
       "    }\n",
       "\n",
       "    .dataframe thead th {\n",
       "        text-align: right;\n",
       "    }\n",
       "</style>\n",
       "<table border=\"1\" class=\"dataframe\">\n",
       "  <thead>\n",
       "    <tr style=\"text-align: right;\">\n",
       "      <th></th>\n",
       "      <th>Company</th>\n",
       "      <th>TypeName</th>\n",
       "      <th>Inches</th>\n",
       "      <th>ScreenResolution</th>\n",
       "      <th>Cpu</th>\n",
       "      <th>Ram</th>\n",
       "      <th>Memory</th>\n",
       "      <th>Gpu</th>\n",
       "      <th>OpSys</th>\n",
       "      <th>Weight</th>\n",
       "      <th>Price</th>\n",
       "      <th>TouchScreen</th>\n",
       "    </tr>\n",
       "  </thead>\n",
       "  <tbody>\n",
       "    <tr>\n",
       "      <th>785</th>\n",
       "      <td>MSI</td>\n",
       "      <td>Gaming</td>\n",
       "      <td>14.0</td>\n",
       "      <td>IPS Panel Full HD 1920x1080</td>\n",
       "      <td>Intel Core i7 7700HQ 2.8GHz</td>\n",
       "      <td>1</td>\n",
       "      <td>256GB SSD +  1TB HDD</td>\n",
       "      <td>Nvidia GeForce GTX 1060</td>\n",
       "      <td>Windows 10</td>\n",
       "      <td>1.60</td>\n",
       "      <td>100752.4800</td>\n",
       "      <td>0</td>\n",
       "    </tr>\n",
       "    <tr>\n",
       "      <th>150</th>\n",
       "      <td>Dell</td>\n",
       "      <td>Gaming</td>\n",
       "      <td>15.6</td>\n",
       "      <td>Full HD 1920x1080</td>\n",
       "      <td>Intel Core i7 7700HQ 2.8GHz</td>\n",
       "      <td>2</td>\n",
       "      <td>512GB SSD</td>\n",
       "      <td>Nvidia GeForce GTX 1050</td>\n",
       "      <td>Windows 10</td>\n",
       "      <td>2.56</td>\n",
       "      <td>66560.5728</td>\n",
       "      <td>0</td>\n",
       "    </tr>\n",
       "    <tr>\n",
       "      <th>1029</th>\n",
       "      <td>HP</td>\n",
       "      <td>Notebook</td>\n",
       "      <td>17.3</td>\n",
       "      <td>Full HD 1920x1080</td>\n",
       "      <td>Intel Core i5 7200U 2.5GHz</td>\n",
       "      <td>2</td>\n",
       "      <td>256GB SSD</td>\n",
       "      <td>Nvidia GeForce 930MX</td>\n",
       "      <td>Windows 10</td>\n",
       "      <td>2.63</td>\n",
       "      <td>57542.4000</td>\n",
       "      <td>0</td>\n",
       "    </tr>\n",
       "    <tr>\n",
       "      <th>736</th>\n",
       "      <td>HP</td>\n",
       "      <td>Workstation</td>\n",
       "      <td>15.6</td>\n",
       "      <td>Full HD 1920x1080</td>\n",
       "      <td>Intel Core i7 7700HQ 2.8GHz</td>\n",
       "      <td>2</td>\n",
       "      <td>256GB SSD</td>\n",
       "      <td>Nvidia Quadro M2200</td>\n",
       "      <td>Windows 10</td>\n",
       "      <td>2.60</td>\n",
       "      <td>128884.3200</td>\n",
       "      <td>0</td>\n",
       "    </tr>\n",
       "    <tr>\n",
       "      <th>1025</th>\n",
       "      <td>HP</td>\n",
       "      <td>Ultrabook</td>\n",
       "      <td>12.5</td>\n",
       "      <td>1366x768</td>\n",
       "      <td>Intel Core i5 7200U 2.5GHz</td>\n",
       "      <td>1</td>\n",
       "      <td>256GB SSD</td>\n",
       "      <td>Intel HD Graphics 620</td>\n",
       "      <td>Windows 10</td>\n",
       "      <td>1.26</td>\n",
       "      <td>83063.5200</td>\n",
       "      <td>0</td>\n",
       "    </tr>\n",
       "  </tbody>\n",
       "</table>\n",
       "</div>"
      ],
      "text/plain": [
       "     Company     TypeName  Inches             ScreenResolution  \\\n",
       "785      MSI       Gaming    14.0  IPS Panel Full HD 1920x1080   \n",
       "150     Dell       Gaming    15.6            Full HD 1920x1080   \n",
       "1029      HP     Notebook    17.3            Full HD 1920x1080   \n",
       "736       HP  Workstation    15.6            Full HD 1920x1080   \n",
       "1025      HP    Ultrabook    12.5                     1366x768   \n",
       "\n",
       "                              Cpu  Ram                Memory  \\\n",
       "785   Intel Core i7 7700HQ 2.8GHz    1  256GB SSD +  1TB HDD   \n",
       "150   Intel Core i7 7700HQ 2.8GHz    2             512GB SSD   \n",
       "1029   Intel Core i5 7200U 2.5GHz    2             256GB SSD   \n",
       "736   Intel Core i7 7700HQ 2.8GHz    2             256GB SSD   \n",
       "1025   Intel Core i5 7200U 2.5GHz    1             256GB SSD   \n",
       "\n",
       "                          Gpu       OpSys  Weight        Price  TouchScreen  \n",
       "785   Nvidia GeForce GTX 1060  Windows 10    1.60  100752.4800            0  \n",
       "150   Nvidia GeForce GTX 1050  Windows 10    2.56   66560.5728            0  \n",
       "1029     Nvidia GeForce 930MX  Windows 10    2.63   57542.4000            0  \n",
       "736       Nvidia Quadro M2200  Windows 10    2.60  128884.3200            0  \n",
       "1025    Intel HD Graphics 620  Windows 10    1.26   83063.5200            0  "
      ]
     },
     "execution_count": 34,
     "metadata": {},
     "output_type": "execute_result"
    }
   ],
   "source": [
    "df['TouchScreen'] = df['ScreenResolution'].map(lambda x:1 if 'Touchscreen' in x else 0)\n",
    "df.sample(5)"
   ]
  },
  {
   "cell_type": "code",
   "execution_count": 35,
   "id": "584cf8c4-ea11-4d58-8ac4-59d975915dac",
   "metadata": {},
   "outputs": [
    {
     "data": {
      "text/plain": [
       "<Axes: xlabel='TouchScreen', ylabel='count'>"
      ]
     },
     "execution_count": 35,
     "metadata": {},
     "output_type": "execute_result"
    },
    {
     "data": {
      "image/png": "[encoded data removed]",
      "text/plain": [
       "<Figure size 640x480 with 1 Axes>"
      ]
     },
     "metadata": {},
     "output_type": "display_data"
    }
   ],
   "source": [
    "sns.countplot(df, x='TouchScreen')"
   ]
  },
  {
   "cell_type": "code",
   "execution_count": 36,
   "id": "cd1992bc-9f07-4dcf-b055-281257afb7c1",
   "metadata": {},
   "outputs": [
    {
     "data": {
      "text/plain": [
       "<Axes: xlabel='TouchScreen', ylabel='Price'>"
      ]
     },
     "execution_count": 36,
     "metadata": {},
     "output_type": "execute_result"
    },
    {
     "data": {
      "image/png": "[encoded data removed]",
      "text/plain": [
       "<Figure size 640x480 with 1 Axes>"
      ]
     },
     "metadata": {},
     "output_type": "display_data"
    }
   ],
   "source": [
    "sns.barplot(df, x='TouchScreen', y = 'Price')"
   ]
  },
  {
   "cell_type": "markdown",
   "id": "745e6135-b0c8-4e04-bc5d-624c2f99940d",
   "metadata": {},
   "source": [
    "#### 2.8.2 IPS"
   ]
  },
  {
   "cell_type": "code",
   "execution_count": 37,
   "id": "44253cd8-af1b-4bd1-b0e1-7f892b9684b8",
   "metadata": {},
   "outputs": [
    {
     "data": {
      "text/html": [
       "<div>\n",
       "<style scoped>\n",
       "    .dataframe tbody tr th:only-of-type {\n",
       "        vertical-align: middle;\n",
       "    }\n",
       "\n",
       "    .dataframe tbody tr th {\n",
       "        vertical-align: top;\n",
       "    }\n",
       "\n",
       "    .dataframe thead th {\n",
       "        text-align: right;\n",
       "    }\n",
       "</style>\n",
       "<table border=\"1\" class=\"dataframe\">\n",
       "  <thead>\n",
       "    <tr style=\"text-align: right;\">\n",
       "      <th></th>\n",
       "      <th>Company</th>\n",
       "      <th>TypeName</th>\n",
       "      <th>Inches</th>\n",
       "      <th>ScreenResolution</th>\n",
       "      <th>Cpu</th>\n",
       "      <th>Ram</th>\n",
       "      <th>Memory</th>\n",
       "      <th>Gpu</th>\n",
       "      <th>OpSys</th>\n",
       "      <th>Weight</th>\n",
       "      <th>Price</th>\n",
       "      <th>TouchScreen</th>\n",
       "      <th>IPS</th>\n",
       "    </tr>\n",
       "  </thead>\n",
       "  <tbody>\n",
       "    <tr>\n",
       "      <th>298</th>\n",
       "      <td>Lenovo</td>\n",
       "      <td>Notebook</td>\n",
       "      <td>15.6</td>\n",
       "      <td>Full HD 1920x1080</td>\n",
       "      <td>AMD A10-Series 9600P 2.4GHz</td>\n",
       "      <td>2</td>\n",
       "      <td>1TB HDD</td>\n",
       "      <td>AMD Radeon R5 430</td>\n",
       "      <td>Windows 10</td>\n",
       "      <td>2.40</td>\n",
       "      <td>26586.7200</td>\n",
       "      <td>0</td>\n",
       "      <td>0</td>\n",
       "    </tr>\n",
       "    <tr>\n",
       "      <th>396</th>\n",
       "      <td>Lenovo</td>\n",
       "      <td>Notebook</td>\n",
       "      <td>15.6</td>\n",
       "      <td>IPS Panel Full HD 1920x1080</td>\n",
       "      <td>Intel Core i7 8550U 1.8GHz</td>\n",
       "      <td>2</td>\n",
       "      <td>256GB SSD</td>\n",
       "      <td>AMD Radeon RX 550</td>\n",
       "      <td>Windows 10</td>\n",
       "      <td>2.10</td>\n",
       "      <td>65510.9568</td>\n",
       "      <td>0</td>\n",
       "      <td>1</td>\n",
       "    </tr>\n",
       "    <tr>\n",
       "      <th>451</th>\n",
       "      <td>Dell</td>\n",
       "      <td>Workstation</td>\n",
       "      <td>15.6</td>\n",
       "      <td>IPS Panel Full HD 1920x1080</td>\n",
       "      <td>Intel Core i7 6820HQ 2.7GHz</td>\n",
       "      <td>2</td>\n",
       "      <td>256GB SSD</td>\n",
       "      <td>Nvidia Quadro M620</td>\n",
       "      <td>Windows 10</td>\n",
       "      <td>2.17</td>\n",
       "      <td>105228.0000</td>\n",
       "      <td>0</td>\n",
       "      <td>1</td>\n",
       "    </tr>\n",
       "    <tr>\n",
       "      <th>1226</th>\n",
       "      <td>Dell</td>\n",
       "      <td>Ultrabook</td>\n",
       "      <td>13.3</td>\n",
       "      <td>Quad HD+ / Touchscreen 3200x1800</td>\n",
       "      <td>Intel Core i7 7500U 2.7GHz</td>\n",
       "      <td>1</td>\n",
       "      <td>256GB SSD</td>\n",
       "      <td>Intel HD Graphics 620</td>\n",
       "      <td>Windows 10</td>\n",
       "      <td>1.29</td>\n",
       "      <td>78694.5600</td>\n",
       "      <td>1</td>\n",
       "      <td>0</td>\n",
       "    </tr>\n",
       "    <tr>\n",
       "      <th>599</th>\n",
       "      <td>Dell</td>\n",
       "      <td>Workstation</td>\n",
       "      <td>15.6</td>\n",
       "      <td>Full HD / Touchscreen 1920x1080</td>\n",
       "      <td>Intel Core i7 7700HQ 2.8GHz</td>\n",
       "      <td>2</td>\n",
       "      <td>256GB SSD</td>\n",
       "      <td>Nvidia Quadro M620</td>\n",
       "      <td>Windows 10</td>\n",
       "      <td>2.06</td>\n",
       "      <td>93932.6400</td>\n",
       "      <td>1</td>\n",
       "      <td>0</td>\n",
       "    </tr>\n",
       "  </tbody>\n",
       "</table>\n",
       "</div>"
      ],
      "text/plain": [
       "     Company     TypeName  Inches                  ScreenResolution  \\\n",
       "298   Lenovo     Notebook    15.6                 Full HD 1920x1080   \n",
       "396   Lenovo     Notebook    15.6       IPS Panel Full HD 1920x1080   \n",
       "451     Dell  Workstation    15.6       IPS Panel Full HD 1920x1080   \n",
       "1226    Dell    Ultrabook    13.3  Quad HD+ / Touchscreen 3200x1800   \n",
       "599     Dell  Workstation    15.6   Full HD / Touchscreen 1920x1080   \n",
       "\n",
       "                              Cpu  Ram     Memory                    Gpu  \\\n",
       "298   AMD A10-Series 9600P 2.4GHz    2    1TB HDD      AMD Radeon R5 430   \n",
       "396    Intel Core i7 8550U 1.8GHz    2  256GB SSD      AMD Radeon RX 550   \n",
       "451   Intel Core i7 6820HQ 2.7GHz    2  256GB SSD     Nvidia Quadro M620   \n",
       "1226   Intel Core i7 7500U 2.7GHz    1  256GB SSD  Intel HD Graphics 620   \n",
       "599   Intel Core i7 7700HQ 2.8GHz    2  256GB SSD     Nvidia Quadro M620   \n",
       "\n",
       "           OpSys  Weight        Price  TouchScreen  IPS  \n",
       "298   Windows 10    2.40   26586.7200            0    0  \n",
       "396   Windows 10    2.10   65510.9568            0    1  \n",
       "451   Windows 10    2.17  105228.0000            0    1  \n",
       "1226  Windows 10    1.29   78694.5600            1    0  \n",
       "599   Windows 10    2.06   93932.6400            1    0  "
      ]
     },
     "execution_count": 37,
     "metadata": {},
     "output_type": "execute_result"
    }
   ],
   "source": [
    "df['IPS'] = df['ScreenResolution'].map(lambda x:1 if 'IPS' in x else 0)\n",
    "df.sample(5)"
   ]
  },
  {
   "cell_type": "code",
   "execution_count": 38,
   "id": "aedcfacc-e8d2-4cf0-8c45-3d1445410a6f",
   "metadata": {},
   "outputs": [
    {
     "data": {
      "text/plain": [
       "<Axes: xlabel='IPS', ylabel='count'>"
      ]
     },
     "execution_count": 38,
     "metadata": {},
     "output_type": "execute_result"
    },
    {
     "data": {
      "image/png": "[encoded data removed]",
      "text/plain": [
       "<Figure size 640x480 with 1 Axes>"
      ]
     },
     "metadata": {},
     "output_type": "display_data"
    }
   ],
   "source": [
    "sns.countplot(df, x='IPS')"
   ]
  },
  {
   "cell_type": "code",
   "execution_count": 40,
   "id": "8744c22e-d42a-4c2a-98fe-cd42de8e2009",
   "metadata": {},
   "outputs": [
    {
     "data": {
      "text/plain": [
       "<Axes: xlabel='IPS', ylabel='Price'>"
      ]
     },
     "execution_count": 40,
     "metadata": {},
     "output_type": "execute_result"
    },
    {
     "data": {
      "image/png": "[encoded data removed]",
      "text/plain": [
       "<Figure size 640x480 with 1 Axes>"
      ]
     },
     "metadata": {},
     "output_type": "display_data"
    }
   ],
   "source": [
    "sns.barplot(df, x='IPS', y='Price')"
   ]
  },
  {
   "cell_type": "markdown",
   "id": "2a1c4895-9848-432b-b0c2-72a83f124f25",
   "metadata": {},
   "source": [
    "#### 2.8.3 Extract X and Y resolution"
   ]
  },
  {
   "cell_type": "code",
   "execution_count": 41,
   "id": "b98daa7b-26ec-4166-a384-efeb1eb6b9e2",
   "metadata": {},
   "outputs": [
    {
     "data": {
      "text/plain": [
       "array(['IPS Panel Retina Display 2560x1600', '1440x900',\n",
       "       'Full HD 1920x1080', 'IPS Panel Retina Display 2880x1800',\n",
       "       '1366x768', 'IPS Panel Full HD 1920x1080',\n",
       "       'IPS Panel Retina Display 2304x1440',\n",
       "       'IPS Panel Full HD / Touchscreen 1920x1080',\n",
       "       'Full HD / Touchscreen 1920x1080',\n",
       "       'Touchscreen / Quad HD+ 3200x1800',\n",
       "       'IPS Panel Touchscreen 1920x1200', 'Touchscreen 2256x1504',\n",
       "       'Quad HD+ / Touchscreen 3200x1800', 'IPS Panel 1366x768',\n",
       "       'IPS Panel 4K Ultra HD / Touchscreen 3840x2160',\n",
       "       'IPS Panel Full HD 2160x1440',\n",
       "       '4K Ultra HD / Touchscreen 3840x2160', 'Touchscreen 2560x1440',\n",
       "       '1600x900', 'IPS Panel 4K Ultra HD 3840x2160',\n",
       "       '4K Ultra HD 3840x2160', 'Touchscreen 1366x768',\n",
       "       'IPS Panel Full HD 1366x768', 'IPS Panel 2560x1440',\n",
       "       'IPS Panel Full HD 2560x1440',\n",
       "       'IPS Panel Retina Display 2736x1824', 'Touchscreen 2400x1600',\n",
       "       '2560x1440', 'IPS Panel Quad HD+ 2560x1440',\n",
       "       'IPS Panel Quad HD+ 3200x1800',\n",
       "       'IPS Panel Quad HD+ / Touchscreen 3200x1800',\n",
       "       'IPS Panel Touchscreen 1366x768', '1920x1080',\n",
       "       'IPS Panel Full HD 1920x1200',\n",
       "       'IPS Panel Touchscreen / 4K Ultra HD 3840x2160',\n",
       "       'IPS Panel Touchscreen 2560x1440',\n",
       "       'Touchscreen / Full HD 1920x1080', 'Quad HD+ 3200x1800',\n",
       "       'Touchscreen / 4K Ultra HD 3840x2160',\n",
       "       'IPS Panel Touchscreen 2400x1600'], dtype=object)"
      ]
     },
     "execution_count": 41,
     "metadata": {},
     "output_type": "execute_result"
    }
   ],
   "source": [
    "df['ScreenResolution'].unique()"
   ]
  },
  {
   "cell_type": "code",
   "execution_count": 42,
   "id": "1271a06f-d059-4a5e-a330-a1a0514f1c85",
   "metadata": {},
   "outputs": [],
   "source": [
    "import re"
   ]
  },
  {
   "cell_type": "code",
   "execution_count": 43,
   "id": "b3fb8cbc-2e0c-415e-874b-88fb5528dd56",
   "metadata": {},
   "outputs": [],
   "source": [
    "pattern = r\"(\\d+)x(\\d+)\""
   ]
  },
  {
   "cell_type": "code",
   "execution_count": 45,
   "id": "49aa6b83-fd9e-478d-9ffe-f345a925de07",
   "metadata": {},
   "outputs": [],
   "source": [
    "def get_xy_res(row):\n",
    "    matches = re.search(pattern, row[\"ScreenResolution\"]).groups(0)\n",
    "    return int(matches[0]), int(matches[1])"
   ]
  },
  {
   "cell_type": "code",
   "execution_count": 46,
   "id": "f937d5e9-7e94-4ee3-9026-deba0e5fdc69",
   "metadata": {},
   "outputs": [],
   "source": [
    "df[[\"X_res\",\"Y_res\"]] = df.apply(get_xy_res, axis=1, result_type=\"expand\")"
   ]
  },
  {
   "cell_type": "code",
   "execution_count": 47,
   "id": "f806c347-42f2-48ab-aed2-c5671d49a5c0",
   "metadata": {},
   "outputs": [
    {
     "data": {
      "text/html": [
       "<div>\n",
       "<style scoped>\n",
       "    .dataframe tbody tr th:only-of-type {\n",
       "        vertical-align: middle;\n",
       "    }\n",
       "\n",
       "    .dataframe tbody tr th {\n",
       "        vertical-align: top;\n",
       "    }\n",
       "\n",
       "    .dataframe thead th {\n",
       "        text-align: right;\n",
       "    }\n",
       "</style>\n",
       "<table border=\"1\" class=\"dataframe\">\n",
       "  <thead>\n",
       "    <tr style=\"text-align: right;\">\n",
       "      <th></th>\n",
       "      <th>Company</th>\n",
       "      <th>TypeName</th>\n",
       "      <th>Inches</th>\n",
       "      <th>ScreenResolution</th>\n",
       "      <th>Cpu</th>\n",
       "      <th>Ram</th>\n",
       "      <th>Memory</th>\n",
       "      <th>Gpu</th>\n",
       "      <th>OpSys</th>\n",
       "      <th>Weight</th>\n",
       "      <th>Price</th>\n",
       "      <th>TouchScreen</th>\n",
       "      <th>IPS</th>\n",
       "      <th>X_res</th>\n",
       "      <th>Y_res</th>\n",
       "    </tr>\n",
       "  </thead>\n",
       "  <tbody>\n",
       "    <tr>\n",
       "      <th>0</th>\n",
       "      <td>Apple</td>\n",
       "      <td>Ultrabook</td>\n",
       "      <td>13.3</td>\n",
       "      <td>IPS Panel Retina Display 2560x1600</td>\n",
       "      <td>Intel Core i5 2.3GHz</td>\n",
       "      <td>1</td>\n",
       "      <td>128GB SSD</td>\n",
       "      <td>Intel Iris Plus Graphics 640</td>\n",
       "      <td>macOS</td>\n",
       "      <td>1.37</td>\n",
       "      <td>71378.6832</td>\n",
       "      <td>0</td>\n",
       "      <td>1</td>\n",
       "      <td>2560</td>\n",
       "      <td>1600</td>\n",
       "    </tr>\n",
       "    <tr>\n",
       "      <th>1</th>\n",
       "      <td>Apple</td>\n",
       "      <td>Ultrabook</td>\n",
       "      <td>13.3</td>\n",
       "      <td>1440x900</td>\n",
       "      <td>Intel Core i5 1.8GHz</td>\n",
       "      <td>1</td>\n",
       "      <td>128GB Flash Storage</td>\n",
       "      <td>Intel HD Graphics 6000</td>\n",
       "      <td>macOS</td>\n",
       "      <td>1.34</td>\n",
       "      <td>47895.5232</td>\n",
       "      <td>0</td>\n",
       "      <td>0</td>\n",
       "      <td>1440</td>\n",
       "      <td>900</td>\n",
       "    </tr>\n",
       "    <tr>\n",
       "      <th>2</th>\n",
       "      <td>HP</td>\n",
       "      <td>Notebook</td>\n",
       "      <td>15.6</td>\n",
       "      <td>Full HD 1920x1080</td>\n",
       "      <td>Intel Core i5 7200U 2.5GHz</td>\n",
       "      <td>1</td>\n",
       "      <td>256GB SSD</td>\n",
       "      <td>Intel HD Graphics 620</td>\n",
       "      <td>No OS</td>\n",
       "      <td>1.86</td>\n",
       "      <td>30636.0000</td>\n",
       "      <td>0</td>\n",
       "      <td>0</td>\n",
       "      <td>1920</td>\n",
       "      <td>1080</td>\n",
       "    </tr>\n",
       "  </tbody>\n",
       "</table>\n",
       "</div>"
      ],
      "text/plain": [
       "  Company   TypeName  Inches                    ScreenResolution  \\\n",
       "0   Apple  Ultrabook    13.3  IPS Panel Retina Display 2560x1600   \n",
       "1   Apple  Ultrabook    13.3                            1440x900   \n",
       "2      HP   Notebook    15.6                   Full HD 1920x1080   \n",
       "\n",
       "                          Cpu  Ram               Memory  \\\n",
       "0        Intel Core i5 2.3GHz    1            128GB SSD   \n",
       "1        Intel Core i5 1.8GHz    1  128GB Flash Storage   \n",
       "2  Intel Core i5 7200U 2.5GHz    1            256GB SSD   \n",
       "\n",
       "                            Gpu  OpSys  Weight       Price  TouchScreen  IPS  \\\n",
       "0  Intel Iris Plus Graphics 640  macOS    1.37  71378.6832            0    1   \n",
       "1        Intel HD Graphics 6000  macOS    1.34  47895.5232            0    0   \n",
       "2         Intel HD Graphics 620  No OS    1.86  30636.0000            0    0   \n",
       "\n",
       "   X_res  Y_res  \n",
       "0   2560   1600  \n",
       "1   1440    900  \n",
       "2   1920   1080  "
      ]
     },
     "execution_count": 47,
     "metadata": {},
     "output_type": "execute_result"
    }
   ],
   "source": [
    "df.head(3)"
   ]
  },
  {
   "cell_type": "code",
   "execution_count": 48,
   "id": "113284b8-784a-4f65-b95b-f71b56f67769",
   "metadata": {},
   "outputs": [
    {
     "name": "stdout",
     "output_type": "stream",
     "text": [
      "<class 'pandas.core.frame.DataFrame'>\n",
      "RangeIndex: 1303 entries, 0 to 1302\n",
      "Data columns (total 15 columns):\n",
      " #   Column            Non-Null Count  Dtype  \n",
      "---  ------            --------------  -----  \n",
      " 0   Company           1303 non-null   object \n",
      " 1   TypeName          1303 non-null   object \n",
      " 2   Inches            1303 non-null   float64\n",
      " 3   ScreenResolution  1303 non-null   object \n",
      " 4   Cpu               1303 non-null   object \n",
      " 5   Ram               1303 non-null   int32  \n",
      " 6   Memory            1303 non-null   object \n",
      " 7   Gpu               1303 non-null   object \n",
      " 8   OpSys             1303 non-null   object \n",
      " 9   Weight            1303 non-null   float32\n",
      " 10  Price             1303 non-null   float64\n",
      " 11  TouchScreen       1303 non-null   int64  \n",
      " 12  IPS               1303 non-null   int64  \n",
      " 13  X_res             1303 non-null   int64  \n",
      " 14  Y_res             1303 non-null   int64  \n",
      "dtypes: float32(1), float64(2), int32(1), int64(4), object(7)\n",
      "memory usage: 142.6+ KB\n"
     ]
    }
   ],
   "source": [
    "df.info()"
   ]
  },
  {
   "cell_type": "code",
   "execution_count": 49,
   "id": "88402d1c-85a2-43f8-9839-b124efc49d27",
   "metadata": {},
   "outputs": [
    {
     "data": {
      "text/plain": [
       "<Axes: >"
      ]
     },
     "execution_count": 49,
     "metadata": {},
     "output_type": "execute_result"
    },
    {
     "data": {
      "image/png": "[encoded data removed]",
      "text/plain": [
       "<Figure size 640x480 with 2 Axes>"
      ]
     },
     "metadata": {},
     "output_type": "display_data"
    }
   ],
   "source": [
    "sns.heatmap(df.corr(numeric_only=True),annot=True)"
   ]
  },
  {
   "cell_type": "code",
   "execution_count": 50,
   "id": "470af046-ef86-477e-998b-94350e84cbd8",
   "metadata": {},
   "outputs": [
    {
     "data": {
      "text/plain": [
       "Inches         0.068197\n",
       "Ram            0.173722\n",
       "TouchScreen    0.191226\n",
       "Weight         0.210370\n",
       "IPS            0.252208\n",
       "Y_res          0.552809\n",
       "X_res          0.556529\n",
       "Price          1.000000\n",
       "Name: Price, dtype: float64"
      ]
     },
     "execution_count": 50,
     "metadata": {},
     "output_type": "execute_result"
    }
   ],
   "source": [
    "df.corr(numeric_only=True)['Price'].sort_values()"
   ]
  },
  {
   "cell_type": "markdown",
   "id": "2269db10-3c43-47ab-b0a1-d540ad7a8c23",
   "metadata": {},
   "source": [
    "#### 2.8.4 Construct PPI"
   ]
  },
  {
   "cell_type": "markdown",
   "id": "39d9556c-cde2-48ae-b261-6cd5546a96ac",
   "metadata": {},
   "source": [
    "As we can see from the above heatmap, there is a very high correlation between X_res and Y_res. I will construct a new variable called PPI, given X_res, Y_res, and Inches. After that, I will delete X_res, Y_res, and Inches for the sake of retaining model training accruacy later on.\n",
    "\n",
    "The formula to calculate PPI is below:\n",
    "\n",
    "## $PPI = \\frac{\\sqrt{X^2+Y^2}}{Screen Resolution}$"
   ]
  },
  {
   "cell_type": "code",
   "execution_count": 51,
   "id": "467b5adc-07f0-4f70-aa3a-63ad25a52943",
   "metadata": {},
   "outputs": [
    {
     "data": {
      "text/html": [
       "<div>\n",
       "<style scoped>\n",
       "    .dataframe tbody tr th:only-of-type {\n",
       "        vertical-align: middle;\n",
       "    }\n",
       "\n",
       "    .dataframe tbody tr th {\n",
       "        vertical-align: top;\n",
       "    }\n",
       "\n",
       "    .dataframe thead th {\n",
       "        text-align: right;\n",
       "    }\n",
       "</style>\n",
       "<table border=\"1\" class=\"dataframe\">\n",
       "  <thead>\n",
       "    <tr style=\"text-align: right;\">\n",
       "      <th></th>\n",
       "      <th>Company</th>\n",
       "      <th>TypeName</th>\n",
       "      <th>Inches</th>\n",
       "      <th>ScreenResolution</th>\n",
       "      <th>Cpu</th>\n",
       "      <th>Ram</th>\n",
       "      <th>Memory</th>\n",
       "      <th>Gpu</th>\n",
       "      <th>OpSys</th>\n",
       "      <th>Weight</th>\n",
       "      <th>Price</th>\n",
       "      <th>TouchScreen</th>\n",
       "      <th>IPS</th>\n",
       "      <th>X_res</th>\n",
       "      <th>Y_res</th>\n",
       "      <th>PPI</th>\n",
       "    </tr>\n",
       "  </thead>\n",
       "  <tbody>\n",
       "    <tr>\n",
       "      <th>0</th>\n",
       "      <td>Apple</td>\n",
       "      <td>Ultrabook</td>\n",
       "      <td>13.3</td>\n",
       "      <td>IPS Panel Retina Display 2560x1600</td>\n",
       "      <td>Intel Core i5 2.3GHz</td>\n",
       "      <td>1</td>\n",
       "      <td>128GB SSD</td>\n",
       "      <td>Intel Iris Plus Graphics 640</td>\n",
       "      <td>macOS</td>\n",
       "      <td>1.37</td>\n",
       "      <td>71378.6832</td>\n",
       "      <td>0</td>\n",
       "      <td>1</td>\n",
       "      <td>2560</td>\n",
       "      <td>1600</td>\n",
       "      <td>226.983005</td>\n",
       "    </tr>\n",
       "    <tr>\n",
       "      <th>1</th>\n",
       "      <td>Apple</td>\n",
       "      <td>Ultrabook</td>\n",
       "      <td>13.3</td>\n",
       "      <td>1440x900</td>\n",
       "      <td>Intel Core i5 1.8GHz</td>\n",
       "      <td>1</td>\n",
       "      <td>128GB Flash Storage</td>\n",
       "      <td>Intel HD Graphics 6000</td>\n",
       "      <td>macOS</td>\n",
       "      <td>1.34</td>\n",
       "      <td>47895.5232</td>\n",
       "      <td>0</td>\n",
       "      <td>0</td>\n",
       "      <td>1440</td>\n",
       "      <td>900</td>\n",
       "      <td>127.677940</td>\n",
       "    </tr>\n",
       "    <tr>\n",
       "      <th>2</th>\n",
       "      <td>HP</td>\n",
       "      <td>Notebook</td>\n",
       "      <td>15.6</td>\n",
       "      <td>Full HD 1920x1080</td>\n",
       "      <td>Intel Core i5 7200U 2.5GHz</td>\n",
       "      <td>1</td>\n",
       "      <td>256GB SSD</td>\n",
       "      <td>Intel HD Graphics 620</td>\n",
       "      <td>No OS</td>\n",
       "      <td>1.86</td>\n",
       "      <td>30636.0000</td>\n",
       "      <td>0</td>\n",
       "      <td>0</td>\n",
       "      <td>1920</td>\n",
       "      <td>1080</td>\n",
       "      <td>141.211998</td>\n",
       "    </tr>\n",
       "    <tr>\n",
       "      <th>3</th>\n",
       "      <td>Apple</td>\n",
       "      <td>Ultrabook</td>\n",
       "      <td>15.4</td>\n",
       "      <td>IPS Panel Retina Display 2880x1800</td>\n",
       "      <td>Intel Core i7 2.7GHz</td>\n",
       "      <td>1</td>\n",
       "      <td>512GB SSD</td>\n",
       "      <td>AMD Radeon Pro 455</td>\n",
       "      <td>macOS</td>\n",
       "      <td>1.83</td>\n",
       "      <td>135195.3360</td>\n",
       "      <td>0</td>\n",
       "      <td>1</td>\n",
       "      <td>2880</td>\n",
       "      <td>1800</td>\n",
       "      <td>220.534624</td>\n",
       "    </tr>\n",
       "    <tr>\n",
       "      <th>4</th>\n",
       "      <td>Apple</td>\n",
       "      <td>Ultrabook</td>\n",
       "      <td>13.3</td>\n",
       "      <td>IPS Panel Retina Display 2560x1600</td>\n",
       "      <td>Intel Core i5 3.1GHz</td>\n",
       "      <td>1</td>\n",
       "      <td>256GB SSD</td>\n",
       "      <td>Intel Iris Plus Graphics 650</td>\n",
       "      <td>macOS</td>\n",
       "      <td>1.37</td>\n",
       "      <td>96095.8080</td>\n",
       "      <td>0</td>\n",
       "      <td>1</td>\n",
       "      <td>2560</td>\n",
       "      <td>1600</td>\n",
       "      <td>226.983005</td>\n",
       "    </tr>\n",
       "  </tbody>\n",
       "</table>\n",
       "</div>"
      ],
      "text/plain": [
       "  Company   TypeName  Inches                    ScreenResolution  \\\n",
       "0   Apple  Ultrabook    13.3  IPS Panel Retina Display 2560x1600   \n",
       "1   Apple  Ultrabook    13.3                            1440x900   \n",
       "2      HP   Notebook    15.6                   Full HD 1920x1080   \n",
       "3   Apple  Ultrabook    15.4  IPS Panel Retina Display 2880x1800   \n",
       "4   Apple  Ultrabook    13.3  IPS Panel Retina Display 2560x1600   \n",
       "\n",
       "                          Cpu  Ram               Memory  \\\n",
       "0        Intel Core i5 2.3GHz    1            128GB SSD   \n",
       "1        Intel Core i5 1.8GHz    1  128GB Flash Storage   \n",
       "2  Intel Core i5 7200U 2.5GHz    1            256GB SSD   \n",
       "3        Intel Core i7 2.7GHz    1            512GB SSD   \n",
       "4        Intel Core i5 3.1GHz    1            256GB SSD   \n",
       "\n",
       "                            Gpu  OpSys  Weight        Price  TouchScreen  IPS  \\\n",
       "0  Intel Iris Plus Graphics 640  macOS    1.37   71378.6832            0    1   \n",
       "1        Intel HD Graphics 6000  macOS    1.34   47895.5232            0    0   \n",
       "2         Intel HD Graphics 620  No OS    1.86   30636.0000            0    0   \n",
       "3            AMD Radeon Pro 455  macOS    1.83  135195.3360            0    1   \n",
       "4  Intel Iris Plus Graphics 650  macOS    1.37   96095.8080            0    1   \n",
       "\n",
       "   X_res  Y_res         PPI  \n",
       "0   2560   1600  226.983005  \n",
       "1   1440    900  127.677940  \n",
       "2   1920   1080  141.211998  \n",
       "3   2880   1800  220.534624  \n",
       "4   2560   1600  226.983005  "
      ]
     },
     "execution_count": 51,
     "metadata": {},
     "output_type": "execute_result"
    }
   ],
   "source": [
    "df['PPI']=(((df['X_res']**2+df['Y_res']**2))**0.5/df['Inches']).astype(float)\n",
    "df.head()"
   ]
  },
  {
   "cell_type": "code",
   "execution_count": 52,
   "id": "9a2a2dc0-5df9-42ef-a6fa-9cf934817c69",
   "metadata": {},
   "outputs": [
    {
     "data": {
      "text/html": [
       "<div>\n",
       "<style scoped>\n",
       "    .dataframe tbody tr th:only-of-type {\n",
       "        vertical-align: middle;\n",
       "    }\n",
       "\n",
       "    .dataframe tbody tr th {\n",
       "        vertical-align: top;\n",
       "    }\n",
       "\n",
       "    .dataframe thead th {\n",
       "        text-align: right;\n",
       "    }\n",
       "</style>\n",
       "<table border=\"1\" class=\"dataframe\">\n",
       "  <thead>\n",
       "    <tr style=\"text-align: right;\">\n",
       "      <th></th>\n",
       "      <th>Inches</th>\n",
       "      <th>Ram</th>\n",
       "      <th>Weight</th>\n",
       "      <th>Price</th>\n",
       "      <th>TouchScreen</th>\n",
       "      <th>IPS</th>\n",
       "      <th>X_res</th>\n",
       "      <th>Y_res</th>\n",
       "      <th>PPI</th>\n",
       "    </tr>\n",
       "  </thead>\n",
       "  <tbody>\n",
       "    <tr>\n",
       "      <th>Inches</th>\n",
       "      <td>1.000000</td>\n",
       "      <td>0.755337</td>\n",
       "      <td>0.827631</td>\n",
       "      <td>0.068197</td>\n",
       "      <td>-0.361735</td>\n",
       "      <td>-0.114804</td>\n",
       "      <td>-0.071245</td>\n",
       "      <td>-0.095404</td>\n",
       "      <td>-0.414804</td>\n",
       "    </tr>\n",
       "    <tr>\n",
       "      <th>Ram</th>\n",
       "      <td>0.755337</td>\n",
       "      <td>1.000000</td>\n",
       "      <td>0.921411</td>\n",
       "      <td>0.173722</td>\n",
       "      <td>-0.244727</td>\n",
       "      <td>0.008324</td>\n",
       "      <td>-0.026558</td>\n",
       "      <td>-0.046330</td>\n",
       "      <td>-0.292408</td>\n",
       "    </tr>\n",
       "    <tr>\n",
       "      <th>Weight</th>\n",
       "      <td>0.827631</td>\n",
       "      <td>0.921411</td>\n",
       "      <td>1.000000</td>\n",
       "      <td>0.210370</td>\n",
       "      <td>-0.294620</td>\n",
       "      <td>0.016967</td>\n",
       "      <td>-0.032880</td>\n",
       "      <td>-0.053846</td>\n",
       "      <td>-0.323240</td>\n",
       "    </tr>\n",
       "    <tr>\n",
       "      <th>Price</th>\n",
       "      <td>0.068197</td>\n",
       "      <td>0.173722</td>\n",
       "      <td>0.210370</td>\n",
       "      <td>1.000000</td>\n",
       "      <td>0.191226</td>\n",
       "      <td>0.252208</td>\n",
       "      <td>0.556529</td>\n",
       "      <td>0.552809</td>\n",
       "      <td>0.473487</td>\n",
       "    </tr>\n",
       "    <tr>\n",
       "      <th>TouchScreen</th>\n",
       "      <td>-0.361735</td>\n",
       "      <td>-0.244727</td>\n",
       "      <td>-0.294620</td>\n",
       "      <td>0.191226</td>\n",
       "      <td>1.000000</td>\n",
       "      <td>0.150512</td>\n",
       "      <td>0.351066</td>\n",
       "      <td>0.357930</td>\n",
       "      <td>0.460587</td>\n",
       "    </tr>\n",
       "    <tr>\n",
       "      <th>IPS</th>\n",
       "      <td>-0.114804</td>\n",
       "      <td>0.008324</td>\n",
       "      <td>0.016967</td>\n",
       "      <td>0.252208</td>\n",
       "      <td>0.150512</td>\n",
       "      <td>1.000000</td>\n",
       "      <td>0.281457</td>\n",
       "      <td>0.289030</td>\n",
       "      <td>0.300879</td>\n",
       "    </tr>\n",
       "    <tr>\n",
       "      <th>X_res</th>\n",
       "      <td>-0.071245</td>\n",
       "      <td>-0.026558</td>\n",
       "      <td>-0.032880</td>\n",
       "      <td>0.556529</td>\n",
       "      <td>0.351066</td>\n",
       "      <td>0.281457</td>\n",
       "      <td>1.000000</td>\n",
       "      <td>0.994219</td>\n",
       "      <td>0.931217</td>\n",
       "    </tr>\n",
       "    <tr>\n",
       "      <th>Y_res</th>\n",
       "      <td>-0.095404</td>\n",
       "      <td>-0.046330</td>\n",
       "      <td>-0.053846</td>\n",
       "      <td>0.552809</td>\n",
       "      <td>0.357930</td>\n",
       "      <td>0.289030</td>\n",
       "      <td>0.994219</td>\n",
       "      <td>1.000000</td>\n",
       "      <td>0.939363</td>\n",
       "    </tr>\n",
       "    <tr>\n",
       "      <th>PPI</th>\n",
       "      <td>-0.414804</td>\n",
       "      <td>-0.292408</td>\n",
       "      <td>-0.323240</td>\n",
       "      <td>0.473487</td>\n",
       "      <td>0.460587</td>\n",
       "      <td>0.300879</td>\n",
       "      <td>0.931217</td>\n",
       "      <td>0.939363</td>\n",
       "      <td>1.000000</td>\n",
       "    </tr>\n",
       "  </tbody>\n",
       "</table>\n",
       "</div>"
      ],
      "text/plain": [
       "               Inches       Ram    Weight     Price  TouchScreen       IPS  \\\n",
       "Inches       1.000000  0.755337  0.827631  0.068197    -0.361735 -0.114804   \n",
       "Ram          0.755337  1.000000  0.921411  0.173722    -0.244727  0.008324   \n",
       "Weight       0.827631  0.921411  1.000000  0.210370    -0.294620  0.016967   \n",
       "Price        0.068197  0.173722  0.210370  1.000000     0.191226  0.252208   \n",
       "TouchScreen -0.361735 -0.244727 -0.294620  0.191226     1.000000  0.150512   \n",
       "IPS         -0.114804  0.008324  0.016967  0.252208     0.150512  1.000000   \n",
       "X_res       -0.071245 -0.026558 -0.032880  0.556529     0.351066  0.281457   \n",
       "Y_res       -0.095404 -0.046330 -0.053846  0.552809     0.357930  0.289030   \n",
       "PPI         -0.414804 -0.292408 -0.323240  0.473487     0.460587  0.300879   \n",
       "\n",
       "                X_res     Y_res       PPI  \n",
       "Inches      -0.071245 -0.095404 -0.414804  \n",
       "Ram         -0.026558 -0.046330 -0.292408  \n",
       "Weight      -0.032880 -0.053846 -0.323240  \n",
       "Price        0.556529  0.552809  0.473487  \n",
       "TouchScreen  0.351066  0.357930  0.460587  \n",
       "IPS          0.281457  0.289030  0.300879  \n",
       "X_res        1.000000  0.994219  0.931217  \n",
       "Y_res        0.994219  1.000000  0.939363  \n",
       "PPI          0.931217  0.939363  1.000000  "
      ]
     },
     "execution_count": 52,
     "metadata": {},
     "output_type": "execute_result"
    }
   ],
   "source": [
    "df.corr(numeric_only=True)"
   ]
  },
  {
   "cell_type": "code",
   "execution_count": 53,
   "id": "600b31c0-70ec-4d54-9602-38d7d7f75012",
   "metadata": {},
   "outputs": [
    {
     "data": {
      "text/plain": [
       "Inches         0.068197\n",
       "Ram            0.173722\n",
       "TouchScreen    0.191226\n",
       "Weight         0.210370\n",
       "IPS            0.252208\n",
       "PPI            0.473487\n",
       "Y_res          0.552809\n",
       "X_res          0.556529\n",
       "Price          1.000000\n",
       "Name: Price, dtype: float64"
      ]
     },
     "execution_count": 53,
     "metadata": {},
     "output_type": "execute_result"
    }
   ],
   "source": [
    "df.corr(numeric_only=True)['Price'].sort_values()"
   ]
  },
  {
   "cell_type": "code",
   "execution_count": 54,
   "id": "32670aa5-0c18-4c80-bce2-1905ffa8fc5c",
   "metadata": {},
   "outputs": [],
   "source": [
    "data_enums = {}\n",
    "data_enums[\"ScreenResolution\"] = list(df.apply(lambda x : \"%dX%d\" %(x[\"X_res\"],x[\"Y_res\"]),axis=1).unique())"
   ]
  },
  {
   "cell_type": "code",
   "execution_count": 55,
   "id": "55404438-09bb-4871-b726-a07989615ef5",
   "metadata": {},
   "outputs": [
    {
     "data": {
      "text/html": [
       "<div>\n",
       "<style scoped>\n",
       "    .dataframe tbody tr th:only-of-type {\n",
       "        vertical-align: middle;\n",
       "    }\n",
       "\n",
       "    .dataframe tbody tr th {\n",
       "        vertical-align: top;\n",
       "    }\n",
       "\n",
       "    .dataframe thead th {\n",
       "        text-align: right;\n",
       "    }\n",
       "</style>\n",
       "<table border=\"1\" class=\"dataframe\">\n",
       "  <thead>\n",
       "    <tr style=\"text-align: right;\">\n",
       "      <th></th>\n",
       "      <th>Company</th>\n",
       "      <th>TypeName</th>\n",
       "      <th>Cpu</th>\n",
       "      <th>Ram</th>\n",
       "      <th>Memory</th>\n",
       "      <th>Gpu</th>\n",
       "      <th>OpSys</th>\n",
       "      <th>Weight</th>\n",
       "      <th>Price</th>\n",
       "      <th>TouchScreen</th>\n",
       "      <th>IPS</th>\n",
       "      <th>PPI</th>\n",
       "    </tr>\n",
       "  </thead>\n",
       "  <tbody>\n",
       "    <tr>\n",
       "      <th>0</th>\n",
       "      <td>Apple</td>\n",
       "      <td>Ultrabook</td>\n",
       "      <td>Intel Core i5 2.3GHz</td>\n",
       "      <td>1</td>\n",
       "      <td>128GB SSD</td>\n",
       "      <td>Intel Iris Plus Graphics 640</td>\n",
       "      <td>macOS</td>\n",
       "      <td>1.37</td>\n",
       "      <td>71378.6832</td>\n",
       "      <td>0</td>\n",
       "      <td>1</td>\n",
       "      <td>226.983005</td>\n",
       "    </tr>\n",
       "    <tr>\n",
       "      <th>1</th>\n",
       "      <td>Apple</td>\n",
       "      <td>Ultrabook</td>\n",
       "      <td>Intel Core i5 1.8GHz</td>\n",
       "      <td>1</td>\n",
       "      <td>128GB Flash Storage</td>\n",
       "      <td>Intel HD Graphics 6000</td>\n",
       "      <td>macOS</td>\n",
       "      <td>1.34</td>\n",
       "      <td>47895.5232</td>\n",
       "      <td>0</td>\n",
       "      <td>0</td>\n",
       "      <td>127.677940</td>\n",
       "    </tr>\n",
       "    <tr>\n",
       "      <th>2</th>\n",
       "      <td>HP</td>\n",
       "      <td>Notebook</td>\n",
       "      <td>Intel Core i5 7200U 2.5GHz</td>\n",
       "      <td>1</td>\n",
       "      <td>256GB SSD</td>\n",
       "      <td>Intel HD Graphics 620</td>\n",
       "      <td>No OS</td>\n",
       "      <td>1.86</td>\n",
       "      <td>30636.0000</td>\n",
       "      <td>0</td>\n",
       "      <td>0</td>\n",
       "      <td>141.211998</td>\n",
       "    </tr>\n",
       "    <tr>\n",
       "      <th>3</th>\n",
       "      <td>Apple</td>\n",
       "      <td>Ultrabook</td>\n",
       "      <td>Intel Core i7 2.7GHz</td>\n",
       "      <td>1</td>\n",
       "      <td>512GB SSD</td>\n",
       "      <td>AMD Radeon Pro 455</td>\n",
       "      <td>macOS</td>\n",
       "      <td>1.83</td>\n",
       "      <td>135195.3360</td>\n",
       "      <td>0</td>\n",
       "      <td>1</td>\n",
       "      <td>220.534624</td>\n",
       "    </tr>\n",
       "    <tr>\n",
       "      <th>4</th>\n",
       "      <td>Apple</td>\n",
       "      <td>Ultrabook</td>\n",
       "      <td>Intel Core i5 3.1GHz</td>\n",
       "      <td>1</td>\n",
       "      <td>256GB SSD</td>\n",
       "      <td>Intel Iris Plus Graphics 650</td>\n",
       "      <td>macOS</td>\n",
       "      <td>1.37</td>\n",
       "      <td>96095.8080</td>\n",
       "      <td>0</td>\n",
       "      <td>1</td>\n",
       "      <td>226.983005</td>\n",
       "    </tr>\n",
       "  </tbody>\n",
       "</table>\n",
       "</div>"
      ],
      "text/plain": [
       "  Company   TypeName                         Cpu  Ram               Memory  \\\n",
       "0   Apple  Ultrabook        Intel Core i5 2.3GHz    1            128GB SSD   \n",
       "1   Apple  Ultrabook        Intel Core i5 1.8GHz    1  128GB Flash Storage   \n",
       "2      HP   Notebook  Intel Core i5 7200U 2.5GHz    1            256GB SSD   \n",
       "3   Apple  Ultrabook        Intel Core i7 2.7GHz    1            512GB SSD   \n",
       "4   Apple  Ultrabook        Intel Core i5 3.1GHz    1            256GB SSD   \n",
       "\n",
       "                            Gpu  OpSys  Weight        Price  TouchScreen  IPS  \\\n",
       "0  Intel Iris Plus Graphics 640  macOS    1.37   71378.6832            0    1   \n",
       "1        Intel HD Graphics 6000  macOS    1.34   47895.5232            0    0   \n",
       "2         Intel HD Graphics 620  No OS    1.86   30636.0000            0    0   \n",
       "3            AMD Radeon Pro 455  macOS    1.83  135195.3360            0    1   \n",
       "4  Intel Iris Plus Graphics 650  macOS    1.37   96095.8080            0    1   \n",
       "\n",
       "          PPI  \n",
       "0  226.983005  \n",
       "1  127.677940  \n",
       "2  141.211998  \n",
       "3  220.534624  \n",
       "4  226.983005  "
      ]
     },
     "execution_count": 55,
     "metadata": {},
     "output_type": "execute_result"
    }
   ],
   "source": [
    "df.drop(columns=['ScreenResolution','Inches','X_res','Y_res'],inplace=True)\n",
    "df.head()"
   ]
  },
  {
   "cell_type": "code",
   "execution_count": null,
   "id": "2055062c-fd4a-47ba-b8e4-8d1370974bd0",
   "metadata": {},
   "outputs": [],
   "source": []
  }
 ],
 "metadata": {
  "kernelspec": {
   "display_name": "Python [conda env:base] *",
   "language": "python",
   "name": "conda-base-py"
  },
  "language_info": {
   "codemirror_mode": {
    "name": "ipython",
    "version": 3
   },
   "file_extension": ".py",
   "mimetype": "text/x-python",
   "name": "python",
   "nbconvert_exporter": "python",
   "pygments_lexer": "ipython3",
   "version": "3.12.7"
  }
 },
 "nbformat": 4,
 "nbformat_minor": 5
}
